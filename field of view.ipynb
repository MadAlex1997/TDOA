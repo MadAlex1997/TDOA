{
 "cells": [
  {
   "cell_type": "code",
   "execution_count": 8,
   "metadata": {},
   "outputs": [],
   "source": [
    "import numpy as np\n",
    "from senior_sem import generate_transmission, generate_satellite"
   ]
  },
  {
   "cell_type": "code",
   "execution_count": 40,
   "metadata": {},
   "outputs": [],
   "source": [
    "from numba import njit"
   ]
  },
  {
   "cell_type": "code",
   "execution_count": 41,
   "metadata": {},
   "outputs": [],
   "source": [
    "@njit()\n",
    "def horizon(lat,lon,satcords):\n",
    "    u,v,w=satcords\n",
    "    phi=np.deg2rad(lat)\n",
    "    gamma=np.deg2rad(lon)\n",
    "    a = b = 6_378_137.00\n",
    "    c = 6_356_752.314245\n",
    "    f = 1/298.257223563\n",
    "    e_sq =  2*f-f**2\n",
    "    return (a**3*b**2*(e_sq - 1)**2*(-e_sq*np.sin(phi)**2 + 1)**(7/2)*np.sin(phi)**2 + a**3*c**2*(-e_sq*np.sin(phi)**2 + 1)**(7/2)*np.sin(gamma)**2*np.cos(phi)**2 + a**2*b**2*w*(e_sq - 1)*(e_sq*np.sin(phi)**2 - 1)**4*np.sin(phi) - a**2*c**2*v*(e_sq*np.sin(phi)**2 - 1)**4*np.sin(gamma)*np.cos(phi) + a*b**2*c**2*(-e_sq*np.sin(phi)**2 + 1)**(7/2)*np.cos(gamma)**2*np.cos(phi)**2 - b**2*c**2*u*(e_sq*np.sin(phi)**2 - 1)**4*np.cos(gamma)*np.cos(phi))/(a*b**2*c**2*(-e_sq*np.sin(phi)**2 + 1)**(9/2))"
   ]
  },
  {
   "cell_type": "code",
   "execution_count": 42,
   "metadata": {},
   "outputs": [],
   "source": [
    "@njit()\n",
    "def horizon_diff_gamma(lat,lon,satcords):\n",
    "    u,v,w=satcords\n",
    "    phi=np.deg2rad(lat)\n",
    "    gamma=np.deg2rad(lon)\n",
    "    a = b = 6_378_137.00\n",
    "    c = 6_356_752.314245\n",
    "    f = 1/298.257223563\n",
    "    e_sq =  2*f-f**2\n",
    "    return (-1/2*a**3*(np.sin(2*gamma - phi) + np.sin(2*gamma + phi)) + a**2*v*np.sqrt(-e_sq*np.sin(phi)**2 + 1)*np.cos(gamma) + (1/2)*a*b**2*(np.sin(2*gamma - phi) + np.sin(2*gamma + phi)) - b**2*u*np.sqrt(-e_sq*np.sin(phi)**2 + 1)*np.sin(gamma))*np.cos(phi)/(a*b**2*(e_sq*np.sin(phi)**2 - 1))"
   ]
  },
  {
   "cell_type": "code",
   "execution_count": 72,
   "metadata": {},
   "outputs": [],
   "source": [
    "@njit()\n",
    "def newton(lat,lon,satcords):\n",
    "    lon_0=lon+90\n",
    "    lonp=0\n",
    "    lonm=0\n",
    "    for i in range(10**9):\n",
    "        lon_1=lon_0-horizon(lat,lon,satcords)/horizon_diff_gamma(lat,lon,satcords)\n",
    "        if -1<horizon(lat,lon_1,satcords)<1:\n",
    "            lonp=lon_1\n",
    "            print(i)\n",
    "            break\n",
    "        else:\n",
    "            lon_0=lon_1\n",
    "    else:\n",
    "        print(lon_1)\n",
    "\n",
    "    lon_0=lon-90\n",
    "    for i in range(10**9):\n",
    "        lon_1=lon_0-horizon(lat,lon,satcords)/horizon_diff_gamma(lat,lon,satcords)\n",
    "        if -1<horizon(lat,lon_1,satcords)<1:\n",
    "            lonm=lon_1\n",
    "            print(i)\n",
    "            break\n",
    "        else:\n",
    "            lon_0=lon_1\n",
    "    else:\n",
    "        print(lon_1)\n",
    "    return lonp,lonm\n"
   ]
  },
  {
   "cell_type": "code",
   "execution_count": 64,
   "metadata": {},
   "outputs": [
    {
     "data": {
      "text/plain": [
       "(22353721.854053076, 42443809.29054539, 30683278.648192514)"
      ]
     },
     "execution_count": 64,
     "metadata": {},
     "output_type": "execute_result"
    }
   ],
   "source": []
  },
  {
   "cell_type": "code",
   "execution_count": 75,
   "metadata": {},
   "outputs": [
    {
     "name": "stdout",
     "output_type": "stream",
     "text": [
      "91\n",
      "80\n"
     ]
    }
   ],
   "source": [
    "ll=newton(25,25,satcords)"
   ]
  },
  {
   "cell_type": "code",
   "execution_count": 76,
   "metadata": {},
   "outputs": [
    {
     "data": {
      "text/plain": [
       "(-29.15449528382458, -191.91863171728)"
      ]
     },
     "execution_count": 76,
     "metadata": {},
     "output_type": "execute_result"
    }
   ],
   "source": [
    "ll"
   ]
  },
  {
   "cell_type": "code",
   "execution_count": 1,
   "metadata": {},
   "outputs": [],
   "source": [
    "import shapely"
   ]
  },
  {
   "cell_type": "code",
   "execution_count": 4,
   "metadata": {},
   "outputs": [
    {
     "data": {
      "image/svg+xml": [
       "<svg xmlns=\"http://www.w3.org/2000/svg\" xmlns:xlink=\"http://www.w3.org/1999/xlink\" width=\"100.0\" height=\"100.0\" viewBox=\"-192.0 24.0 2.0 2.0\" preserveAspectRatio=\"xMinYMin meet\"><g transform=\"matrix(1,0,0,-1,0,50.0)\"><circle cx=\"-191.0\" cy=\"25.0\" r=\"0.06\" stroke=\"#555555\" stroke-width=\"0.02\" fill=\"#66cc99\" opacity=\"0.6\" /></g></svg>"
      ],
      "text/plain": [
       "<POINT (-191 25)>"
      ]
     },
     "execution_count": 4,
     "metadata": {},
     "output_type": "execute_result"
    }
   ],
   "source": [
    "shapely.geometry.Point([-191,25])"
   ]
  },
  {
   "cell_type": "code",
   "execution_count": 67,
   "metadata": {},
   "outputs": [
    {
     "data": {
      "text/plain": [
       "-3.1855269819376484"
      ]
     },
     "execution_count": 67,
     "metadata": {},
     "output_type": "execute_result"
    }
   ],
   "source": [
    "np.deg2rad(np.rad2deg(np.deg2rad(ll[1])))"
   ]
  },
  {
   "cell_type": "code",
   "execution_count": 5,
   "metadata": {},
   "outputs": [],
   "source": [
    "import ipyleaflet"
   ]
  },
  {
   "cell_type": "code",
   "execution_count": 1,
   "metadata": {},
   "outputs": [
    {
     "data": {
      "application/vnd.jupyter.widget-view+json": {
       "model_id": "aacf49c8698e401aaca6ecfd8b930228",
       "version_major": 2,
       "version_minor": 0
      },
      "text/plain": [
       "Map(center=[25, 25], controls=(ZoomControl(options=['position', 'zoom_in_text', 'zoom_in_title', 'zoom_out_tex…"
      ]
     },
     "metadata": {},
     "output_type": "display_data"
    }
   ],
   "source": [
    "from ipyleaflet import Map, Marker, MeasureControl\n",
    "\n",
    "center = (25,25)\n",
    "\n",
    "m = Map(center=center, zoom=1)\n",
    "marker = Marker(location=center, draggable=True,color=\"red\")\n",
    "marker0 = Marker(location=(25,360-191), draggable=True)\n",
    "marker1 = Marker(location=(25,360-29), draggable=True)\n",
    "m.add(marker)\n",
    "m.add(marker0)\n",
    "m.add(marker1)\n",
    "measure = MeasureControl(\n",
    "    position='bottomleft',\n",
    "    active_color = 'orange',\n",
    "    primary_length_unit = 'kilometers'\n",
    ")\n",
    "m.add(measure)\n",
    "display(m)\n",
    "ipyleaflet.\n",
    "# Now that the marker is on the Map, you can drag it with your mouse,\n",
    "# it will automatically update the `marker.location` attribute in Python\n",
    "\n",
    "# You can also update the marker location from Python, that will update the\n",
    "# marker location on the Map:\n",
    "# marker.location = (50, 356)"
   ]
  },
  {
   "cell_type": "code",
   "execution_count": 53,
   "metadata": {},
   "outputs": [
    {
     "data": {
      "text/plain": [
       "-1.7126458394067077"
      ]
     },
     "execution_count": 53,
     "metadata": {},
     "output_type": "execute_result"
    }
   ],
   "source": [
    "\n",
    "horizon(25,-21.52526309146065,satcords=satcords)"
   ]
  },
  {
   "cell_type": "code",
   "execution_count": 58,
   "metadata": {},
   "outputs": [],
   "source": [
    "tran = generate_transmission(25,25)\n",
    "sat=generate_satellite(tran)\n",
    "satcords=sat[\"coords\"]"
   ]
  },
  {
   "cell_type": "code",
   "execution_count": 65,
   "metadata": {},
   "outputs": [
    {
     "data": {
      "text/plain": [
       "(27.713718606765493,\n",
       " 26.18995639402187,\n",
       " numpy.datetime64('2024-01-07T15:23:35.241476204'))"
      ]
     },
     "execution_count": 65,
     "metadata": {},
     "output_type": "execute_result"
    }
   ],
   "source": [
    "tran"
   ]
  },
  {
   "cell_type": "code",
   "execution_count": 11,
   "metadata": {},
   "outputs": [],
   "source": [
    "sol_array=np.zeros((181,359))\n",
    "lat_domain = np.arange(-90,91)\n",
    "lon_domain = np.arange(-180,179)\n",
    "for i in range(lat_domain.size):\n",
    "    for j in range(lat_domain.size):\n",
    "        sol_array[i,j]= horizon(lat_domain[i],lon_domain[j],satcords=satcords)"
   ]
  },
  {
   "cell_type": "code",
   "execution_count": 13,
   "metadata": {},
   "outputs": [],
   "source": [
    "import seaborn as sns"
   ]
  },
  {
   "cell_type": "code",
   "execution_count": 6,
   "metadata": {},
   "outputs": [
    {
     "data": {
      "text/plain": [
       "359"
      ]
     },
     "execution_count": 6,
     "metadata": {},
     "output_type": "execute_result"
    }
   ],
   "source": [
    "lat_domain = np.arange(-90,91)\n",
    "lon_domain = np.arange(-180,179)"
   ]
  },
  {
   "cell_type": "code",
   "execution_count": 24,
   "metadata": {},
   "outputs": [],
   "source": [
    "manip=sol_array.copy()"
   ]
  },
  {
   "cell_type": "code",
   "execution_count": 25,
   "metadata": {},
   "outputs": [],
   "source": [
    "manip=1/(1-manip)"
   ]
  },
  {
   "cell_type": "code",
   "execution_count": 27,
   "metadata": {},
   "outputs": [
    {
     "data": {
      "text/plain": [
       "-5736.355140121539"
      ]
     },
     "execution_count": 27,
     "metadata": {},
     "output_type": "execute_result"
    }
   ],
   "source": [
    "manip.min()"
   ]
  },
  {
   "cell_type": "code",
   "execution_count": 28,
   "metadata": {},
   "outputs": [],
   "source": [
    "manip[(manip>1) & (manip<-1)]=0"
   ]
  },
  {
   "cell_type": "code",
   "execution_count": 29,
   "metadata": {},
   "outputs": [
    {
     "data": {
      "text/plain": [
       "<Axes: >"
      ]
     },
     "execution_count": 29,
     "metadata": {},
     "output_type": "execute_result"
    },
    {
     "data": {
      "image/png": "[encoded data removed]",
      "text/plain": [
       "<Figure size 640x480 with 2 Axes>"
      ]
     },
     "metadata": {},
     "output_type": "display_data"
    }
   ],
   "source": [
    "sns.heatmap(manip)"
   ]
  },
  {
   "cell_type": "code",
   "execution_count": null,
   "metadata": {},
   "outputs": [],
   "source": []
  }
 ],
 "metadata": {
  "kernelspec": {
   "display_name": ".venv",
   "language": "python",
   "name": "python3"
  },
  "language_info": {
   "codemirror_mode": {
    "name": "ipython",
    "version": 3
   },
   "file_extension": ".py",
   "mimetype": "text/x-python",
   "name": "python",
   "nbconvert_exporter": "python",
   "pygments_lexer": "ipython3",
   "version": "3.11.5"
  }
 },
 "nbformat": 4,
 "nbformat_minor": 2
}
