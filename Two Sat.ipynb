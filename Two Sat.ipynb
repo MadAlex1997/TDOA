{
 "cells": [
  {
   "cell_type": "code",
   "execution_count": 30,
   "metadata": {},
   "outputs": [],
   "source": [
    "import numpy as np\n",
    "from scipy.constants import c\n",
    "from numba import njit\n",
    "from senior_sem import generate_satellite,generate_transmission"
   ]
  },
  {
   "cell_type": "code",
   "execution_count": 31,
   "metadata": {},
   "outputs": [],
   "source": [
    "import numpy as np\n",
    "from datetime import datetime\n",
    "from scipy.constants import c\n",
    "a = 6_378_137.00\n",
    "e_sq =  6.69437999014 * 10**-3\n",
    "def v(phi):\n",
    "    \"\"\"Make sure to convert to degrees first\"\"\"\n",
    "    return a/np.sqrt(1-e_sq*np.sin(phi)**2)\n",
    "def generate_transmission(lat,lon):\n",
    "    time_of_transmission=np.datetime64(datetime.now())+np.timedelta64(np.random.randint(10**9),\"ns\")\n",
    "    randlat= lat+np.random.randint(5)+np.random.rand()\n",
    "    randlon=lon+np.random.randint(5)+np.random.rand()\n",
    "    return randlat,randlon,time_of_transmission\n",
    "def wgs_84_geo_to_cartes(lat,lon,alt):\n",
    "    lat,lon=np.deg2rad([lat,lon])\n",
    "    x=(v(lat)+alt)*np.cos(lat)*np.cos(lon)\n",
    "    y=(v(lat)+alt)*np.cos(lat)*np.sin(lon)\n",
    "    z=(v(lat)*(1-e_sq)+alt)*np.sin(lat)\n",
    "    return x,y,z\n",
    "def cartes_tuple_distance(tuple1,tuple2):\n",
    "    x1,y1,z1=tuple1\n",
    "    x2,y2,z2=tuple2\n",
    "    return np.sqrt((x1-x2)**2+(y1-y2)**2+(z1-z2)**2)\n",
    "def generate_satellite(trans_tuple):\n",
    "    lat,lon,time =trans_tuple\n",
    "    randlat = lat+np.random.randint(40)+np.random.rand()\n",
    "    randlon = lon+np.random.randint(40)+np.random.rand()\n",
    "    alt = 50*10**6 + np.random.randint(10**6)\n",
    "    dist = cartes_tuple_distance(wgs_84_geo_to_cartes(lat,lon,0),\n",
    "                                 wgs_84_geo_to_cartes(randlat,randlon, alt))\n",
    "    # return dist\n",
    "    time_of_travel_rounded=np.timedelta64(int(np.round(dist/c,9)*10**9),\"ns\")\n",
    "    time_of_arrival = time + time_of_travel_rounded\n",
    "    return {\"coords\":wgs_84_geo_to_cartes(randlat,randlon, alt),\"TOA\":time_of_arrival}#,randlat,randlon"
   ]
  },
  {
   "cell_type": "code",
   "execution_count": 32,
   "metadata": {},
   "outputs": [],
   "source": [
    "a = 6_378_137.00\n",
    "f = 1/298.257223563\n",
    "e_sq =  2*f-f**2\n",
    "trans1 = generate_transmission(4,5)\n",
    "sat1 = generate_satellite(trans_tuple=trans1)\n",
    "sat2 = generate_satellite(trans_tuple=trans1)"
   ]
  },
  {
   "cell_type": "code",
   "execution_count": 33,
   "metadata": {},
   "outputs": [],
   "source": [
    "def v(phi):\n",
    "    return a/np.sqrt(1-e_sq*np.sin(phi)**2)"
   ]
  },
  {
   "cell_type": "code",
   "execution_count": 34,
   "metadata": {},
   "outputs": [],
   "source": [
    "def ds(phi,gamma,x,y,z):\n",
    "    return np.sqrt((v(phi)*np.cos(phi)*np.cos(gamma)-x)**2 \n",
    "                   + (v(phi)*np.cos(phi)*np.sin(gamma)-y)**2 \n",
    "                   + ((1-e_sq)*v(phi)*np.sin(phi)-z)**2)"
   ]
  },
  {
   "cell_type": "code",
   "execution_count": 35,
   "metadata": {},
   "outputs": [],
   "source": [
    "def TDOA_geo(gamma,phi,s0,s1):\n",
    "    ta0=s0[\"TOA\"]\n",
    "    ta1=s1[\"TOA\"]\n",
    "    x0,y0,z0=s0[\"coords\"]\n",
    "    x1,y1,z1=s1[\"coords\"]\n",
    "\n",
    "    return (ta0-ta1)/np.timedelta64(1,\"s\")+(ds(phi,gamma,x1,y1,z1)-ds(phi,gamma,x0,y0,z0))/c"
   ]
  },
  {
   "cell_type": "code",
   "execution_count": 36,
   "metadata": {},
   "outputs": [
    {
     "data": {
      "text/plain": [
       "-0.0014409090588405598"
      ]
     },
     "execution_count": 36,
     "metadata": {},
     "output_type": "execute_result"
    }
   ],
   "source": [
    "TDOA_geo(6,6,sat1,sat2)"
   ]
  },
  {
   "cell_type": "code",
   "execution_count": 37,
   "metadata": {},
   "outputs": [],
   "source": [
    "from scipy.optimize import newton"
   ]
  },
  {
   "cell_type": "code",
   "execution_count": 39,
   "metadata": {},
   "outputs": [
    {
     "data": {
      "text/plain": [
       "(8.70886338901948,\n",
       " 5.028510045090148,\n",
       " numpy.datetime64('2024-01-04T11:41:44.285182845'))"
      ]
     },
     "execution_count": 39,
     "metadata": {},
     "output_type": "execute_result"
    }
   ],
   "source": [
    "trans1"
   ]
  },
  {
   "cell_type": "code",
   "execution_count": 40,
   "metadata": {},
   "outputs": [],
   "source": [
    "phi = np.arange(-89,90,.1)\n",
    "phi.shape\n",
    "theta = np.arange(-89,90,.1)\n",
    "theta.shape\n",
    "rp,rt=np.meshgrid(phi, theta)"
   ]
  },
  {
   "cell_type": "code",
   "execution_count": 41,
   "metadata": {},
   "outputs": [
    {
     "data": {
      "text/plain": [
       "array([-0.00434361, -0.00372021, -0.00317259, ...,  0.01275249,\n",
       "        0.01317048,  0.0133872 ])"
      ]
     },
     "execution_count": 41,
     "metadata": {},
     "output_type": "execute_result"
    }
   ],
   "source": [
    "TDOA_geo(phi,theta,sat1,sat2)"
   ]
  },
  {
   "cell_type": "markdown",
   "metadata": {},
   "source": [
    "TODO make a sympy version of TDOA so that it can be differentiated with respect to latitude"
   ]
  },
  {
   "cell_type": "code",
   "execution_count": 42,
   "metadata": {},
   "outputs": [],
   "source": [
    "def diff_tdoa(gamma,phi,s0,s1):\n",
    "    x_0,y_0,z_0=s0[\"coords\"]\n",
    "    x_1,y_1,z_1=s1[\"coords\"]\n",
    "    return (-(a*(a*np.sin(gamma)*np.cos(phi)/np.sqrt(-e_sq*np.sin(phi)**2 + 1) - y_0)*np.cos(gamma)*np.cos(phi)/np.sqrt(-e_sq*np.sin(phi)**2 + 1) - a*(a*np.cos(gamma)*np.cos(phi)/np.sqrt(-e_sq*np.sin(phi)**2 + 1) - x_0)*np.sin(gamma)*np.cos(phi)/np.sqrt(-e_sq*np.sin(phi)**2 + 1))/np.sqrt((a*(1 - e_sq)*np.sin(phi)/np.sqrt(-e_sq*np.sin(phi)**2 + 1) - z_0)**2 + (a*np.sin(gamma)*np.cos(phi)/np.sqrt(-e_sq*np.sin(phi)**2 + 1) - y_0)**2 + (a*np.cos(gamma)*np.cos(phi)/np.sqrt(-e_sq*np.sin(phi)**2 + 1) - x_0)**2) + (a*(a*np.sin(gamma)*np.cos(phi)/np.sqrt(-e_sq*np.sin(phi)**2 + 1) - y_1)*np.cos(gamma)*np.cos(phi)/np.sqrt(-e_sq*np.sin(phi)**2 + 1) - a*(a*np.cos(gamma)*np.cos(phi)/np.sqrt(-e_sq*np.sin(phi)**2 + 1) - x_1)*np.sin(gamma)*np.cos(phi)/np.sqrt(-e_sq*np.sin(phi)**2 + 1))/np.sqrt((a*(1 - e_sq)*np.sin(phi)/np.sqrt(-e_sq*np.sin(phi)**2 + 1) - z_1)**2 + (a*np.sin(gamma)*np.cos(phi)/np.sqrt(-e_sq*np.sin(phi)**2 + 1) - y_1)**2 + (a*np.cos(gamma)*np.cos(phi)/np.sqrt(-e_sq*np.sin(phi)**2 + 1) - x_1)**2))/c"
   ]
  },
  {
   "cell_type": "code",
   "execution_count": 44,
   "metadata": {},
   "outputs": [
    {
     "ename": "RuntimeError",
     "evalue": "Failed to converge after 1000 iterations, value is -0.24988519973253087.",
     "output_type": "error",
     "traceback": [
      "\u001b[1;31m---------------------------------------------------------------------------\u001b[0m",
      "\u001b[1;31mRuntimeError\u001b[0m                              Traceback (most recent call last)",
      "Cell \u001b[1;32mIn[44], line 1\u001b[0m\n\u001b[1;32m----> 1\u001b[0m \u001b[43mnewton\u001b[49m\u001b[43m(\u001b[49m\u001b[43mTDOA_geo\u001b[49m\u001b[43m,\u001b[49m\u001b[38;5;241;43m0\u001b[39;49m\u001b[43m,\u001b[49m\u001b[43margs\u001b[49m\u001b[38;5;241;43m=\u001b[39;49m\u001b[43m(\u001b[49m\u001b[38;5;241;43m5.02851\u001b[39;49m\u001b[43m,\u001b[49m\u001b[43msat1\u001b[49m\u001b[43m,\u001b[49m\u001b[43msat2\u001b[49m\u001b[43m)\u001b[49m\u001b[43m,\u001b[49m\u001b[43mfprime\u001b[49m\u001b[38;5;241;43m=\u001b[39;49m\u001b[43mdiff_tdoa\u001b[49m\u001b[43m,\u001b[49m\u001b[43mmaxiter\u001b[49m\u001b[38;5;241;43m=\u001b[39;49m\u001b[38;5;241;43m1000\u001b[39;49m\u001b[43m)\u001b[49m\n",
      "File \u001b[1;32mc:\\Users\\kf5kf\\Python\\Senior Seminar\\.venv\\Lib\\site-packages\\scipy\\optimize\\_zeros_py.py:384\u001b[0m, in \u001b[0;36mnewton\u001b[1;34m(func, x0, fprime, args, tol, maxiter, fprime2, x1, rtol, full_output, disp)\u001b[0m\n\u001b[0;32m    381\u001b[0m \u001b[38;5;28;01mif\u001b[39;00m disp:\n\u001b[0;32m    382\u001b[0m     msg \u001b[38;5;241m=\u001b[39m (\u001b[38;5;124m\"\u001b[39m\u001b[38;5;124mFailed to converge after \u001b[39m\u001b[38;5;132;01m%d\u001b[39;00m\u001b[38;5;124m iterations, value is \u001b[39m\u001b[38;5;132;01m%s\u001b[39;00m\u001b[38;5;124m.\u001b[39m\u001b[38;5;124m\"\u001b[39m\n\u001b[0;32m    383\u001b[0m            \u001b[38;5;241m%\u001b[39m (itr \u001b[38;5;241m+\u001b[39m \u001b[38;5;241m1\u001b[39m, p))\n\u001b[1;32m--> 384\u001b[0m     \u001b[38;5;28;01mraise\u001b[39;00m \u001b[38;5;167;01mRuntimeError\u001b[39;00m(msg)\n\u001b[0;32m    386\u001b[0m \u001b[38;5;28;01mreturn\u001b[39;00m _results_select(full_output, (p, funcalls, itr \u001b[38;5;241m+\u001b[39m \u001b[38;5;241m1\u001b[39m, _ECONVERR))\n",
      "\u001b[1;31mRuntimeError\u001b[0m: Failed to converge after 1000 iterations, value is -0.24988519973253087."
     ]
    }
   ],
   "source": [
    "newton(TDOA_geo,0,args=(5.02851,sat1,sat2),fprime=diff_tdoa)"
   ]
  },
  {
   "cell_type": "code",
   "execution_count": null,
   "metadata": {},
   "outputs": [],
   "source": []
  }
 ],
 "metadata": {
  "kernelspec": {
   "display_name": ".venv",
   "language": "python",
   "name": "python3"
  },
  "language_info": {
   "codemirror_mode": {
    "name": "ipython",
    "version": 3
   },
   "file_extension": ".py",
   "mimetype": "text/x-python",
   "name": "python",
   "nbconvert_exporter": "python",
   "pygments_lexer": "ipython3",
   "version": "3.11.5"
  }
 },
 "nbformat": 4,
 "nbformat_minor": 2
}
