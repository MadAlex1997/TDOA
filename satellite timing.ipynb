{
 "cells": [
  {
   "cell_type": "code",
   "execution_count": 64,
   "metadata": {},
   "outputs": [],
   "source": [
    "import numpy as np\n",
    "from datetime import datetime\n",
    "from scipy.constants import c"
   ]
  },
  {
   "cell_type": "markdown",
   "metadata": {},
   "source": [
    "as a general rule if the satellite is high enough 45 $\\deg \\pm$ the lat and lon of the sat will be visible to the satellite  "
   ]
  },
  {
   "cell_type": "markdown",
   "metadata": {},
   "source": []
  },
  {
   "cell_type": "code",
   "execution_count": 65,
   "metadata": {},
   "outputs": [],
   "source": [
    "a = 6_378_137.00\n",
    "e_sq =  6.69437999014 * 10**-3\n"
   ]
  },
  {
   "cell_type": "code",
   "execution_count": 66,
   "metadata": {},
   "outputs": [],
   "source": [
    "def v(phi):\n",
    "    return a/np.sqrt(1-e_sq*np.sin(phi)**2)"
   ]
  },
  {
   "cell_type": "code",
   "execution_count": 67,
   "metadata": {},
   "outputs": [],
   "source": [
    "def generate_transmission(lat,lon):\n",
    "    time_of_transmission=np.datetime64(datetime.now())+np.timedelta64(np.random.randint(10**9),\"ns\")\n",
    "    randlat= lat+np.random.randint(5)+np.random.rand()\n",
    "    randlon=lon+np.random.randint(5)+np.random.rand()\n",
    "    return randlat,randlon,time_of_transmission"
   ]
  },
  {
   "cell_type": "code",
   "execution_count": 68,
   "metadata": {},
   "outputs": [
    {
     "data": {
      "text/plain": [
       "(1.8862376424368148,\n",
       " 1.3904897005823187,\n",
       " numpy.datetime64('2024-01-03T19:52:07.212334887'))"
      ]
     },
     "execution_count": 68,
     "metadata": {},
     "output_type": "execute_result"
    }
   ],
   "source": [
    "generate_transmission(0,0)"
   ]
  },
  {
   "cell_type": "code",
   "execution_count": 69,
   "metadata": {},
   "outputs": [],
   "source": [
    "def wgs_84_geo_to_cartes(lat,lon,alt):\n",
    "    lat,lon=np.deg2rad([lat,lon])\n",
    "    x=(v(lat)+alt)*np.cos(lat)*np.cos(lon)\n",
    "    y=(v(lat)+alt)*np.cos(lat)*np.sin(lon)\n",
    "    z=(v(lat)*(1-e_sq)+alt)*np.sin(lat)\n",
    "    return x,y,z"
   ]
  },
  {
   "cell_type": "code",
   "execution_count": 70,
   "metadata": {},
   "outputs": [],
   "source": [
    "def cartes_tuple_distance(tuple1,tuple2):\n",
    "    x1,y1,z1=tuple1\n",
    "    x2,y2,z2=tuple2\n",
    "    return np.sqrt((x1-x2)**2+(y1-y2)**2+(z1-z2)**2)"
   ]
  },
  {
   "cell_type": "code",
   "execution_count": 85,
   "metadata": {},
   "outputs": [],
   "source": [
    "def generate_satellite(trans_tuple):\n",
    "    lat,lon,time =trans_tuple\n",
    "    randlat = lat+np.random.randint(40)+np.random.rand()\n",
    "    randlon = lon+np.random.randint(40)+np.random.rand()\n",
    "    alt = 50*10**6 + np.random.randint(10**6)\n",
    "    dist = cartes_tuple_distance(wgs_84_geo_to_cartes(lat,lon,0),\n",
    "                                 wgs_84_geo_to_cartes(randlat,randlon, alt))\n",
    "    # return dist\n",
    "    time_of_travel_rounded=np.timedelta64(int(np.round(dist/c,9)*10**9),\"ns\")\n",
    "    time_of_arrival = time + time_of_travel_rounded\n",
    "    return {\"coords\":wgs_84_geo_to_cartes(randlat,randlon, alt),\"TOA\":time_of_arrival}#,randlat,randlon"
   ]
  },
  {
   "cell_type": "code",
   "execution_count": 77,
   "metadata": {},
   "outputs": [],
   "source": [
    "dummy_dist=cartes_tuple_distance((0,0,0),(1,1,1))"
   ]
  },
  {
   "cell_type": "code",
   "execution_count": 78,
   "metadata": {},
   "outputs": [
    {
     "data": {
      "text/plain": [
       "233"
      ]
     },
     "execution_count": 78,
     "metadata": {},
     "output_type": "execute_result"
    }
   ],
   "source": [
    "int(np.round(10*7 /c,9)*10**9)"
   ]
  },
  {
   "cell_type": "code",
   "execution_count": 86,
   "metadata": {},
   "outputs": [
    {
     "data": {
      "text/plain": [
       "[{'coords': (50049807.91529659, 20710919.655912455, 17496226.844360787),\n",
       "  'TOA': numpy.datetime64('2024-01-03T20:04:42.987200859')},\n",
       " {'coords': (47844211.693802565, 24669806.20193875, 18073327.776646663),\n",
       "  'TOA': numpy.datetime64('2024-01-03T20:04:42.987312944')}]"
      ]
     },
     "execution_count": 86,
     "metadata": {},
     "output_type": "execute_result"
    }
   ],
   "source": [
    "trans1 = generate_transmission(4,5)\n",
    "[generate_satellite(trans_tuple=trans1) for _ in range(2)]\n"
   ]
  },
  {
   "cell_type": "code",
   "execution_count": 75,
   "metadata": {},
   "outputs": [
    {
     "data": {
      "text/plain": [
       "6399593.625758489"
      ]
     },
     "execution_count": 75,
     "metadata": {},
     "output_type": "execute_result"
    }
   ],
   "source": [
    "a/np.sqrt((1-e_sq))"
   ]
  },
  {
   "cell_type": "code",
   "execution_count": null,
   "metadata": {},
   "outputs": [],
   "source": []
  }
 ],
 "metadata": {
  "kernelspec": {
   "display_name": ".venv",
   "language": "python",
   "name": "python3"
  },
  "language_info": {
   "codemirror_mode": {
    "name": "ipython",
    "version": 3
   },
   "file_extension": ".py",
   "mimetype": "text/x-python",
   "name": "python",
   "nbconvert_exporter": "python",
   "pygments_lexer": "ipython3",
   "version": "3.11.5"
  }
 },
 "nbformat": 4,
 "nbformat_minor": 2
}
