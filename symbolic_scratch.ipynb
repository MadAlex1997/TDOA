{
 "cells": [
  {
   "cell_type": "code",
   "execution_count": 1,
   "metadata": {},
   "outputs": [],
   "source": [
    "import sympy"
   ]
  },
  {
   "cell_type": "code",
   "execution_count": 2,
   "metadata": {},
   "outputs": [],
   "source": [
    "a,esq,phi,gamma = sympy.symbols(\"a,e^2,phi,gamma\")\n",
    "x0,y0,z0=sympy.symbols(\"x_0,y_0,z_0\")\n",
    "x1,y1,z1=sympy.symbols(\"x_1,y_1,z_1\")"
   ]
  },
  {
   "cell_type": "code",
   "execution_count": 3,
   "metadata": {},
   "outputs": [],
   "source": [
    "def v(phi):\n",
    "    return a/sympy.sqrt(1-esq*sympy.sin(phi)**2)"
   ]
  },
  {
   "cell_type": "code",
   "execution_count": 4,
   "metadata": {},
   "outputs": [
    {
     "data": {
      "text/latex": [
       "$\\displaystyle \\frac{a}{\\sqrt{- e^{2} \\sin^{2}{\\left(\\phi \\right)} + 1}}$"
      ],
      "text/plain": [
       "a/sqrt(-e^2*sin(phi)**2 + 1)"
      ]
     },
     "execution_count": 4,
     "metadata": {},
     "output_type": "execute_result"
    }
   ],
   "source": [
    "v(phi)"
   ]
  },
  {
   "cell_type": "code",
   "execution_count": 5,
   "metadata": {},
   "outputs": [],
   "source": [
    "def ds(phi,gamma,x,y,z):\n",
    "    return sympy.sqrt((v(phi)*sympy.cos(phi)*sympy.cos(gamma)-x)**2 \n",
    "                   + (v(phi)*sympy.cos(phi)*sympy.sin(gamma)-y)**2 \n",
    "                   + ((1-esq)*v(phi)*sympy.sin(phi)-z)**2)"
   ]
  },
  {
   "cell_type": "code",
   "execution_count": 6,
   "metadata": {},
   "outputs": [],
   "source": [
    "c=sympy.symbols(\"c\")"
   ]
  },
  {
   "cell_type": "code",
   "execution_count": 7,
   "metadata": {},
   "outputs": [
    {
     "data": {
      "text/latex": [
       "$\\displaystyle \\frac{- \\frac{\\frac{a \\left(\\frac{a \\sin{\\left(\\gamma \\right)} \\cos{\\left(\\phi \\right)}}{\\sqrt{- e^{2} \\sin^{2}{\\left(\\phi \\right)} + 1}} - y_{0}\\right) \\cos{\\left(\\gamma \\right)} \\cos{\\left(\\phi \\right)}}{\\sqrt{- e^{2} \\sin^{2}{\\left(\\phi \\right)} + 1}} - \\frac{a \\left(\\frac{a \\cos{\\left(\\gamma \\right)} \\cos{\\left(\\phi \\right)}}{\\sqrt{- e^{2} \\sin^{2}{\\left(\\phi \\right)} + 1}} - x_{0}\\right) \\sin{\\left(\\gamma \\right)} \\cos{\\left(\\phi \\right)}}{\\sqrt{- e^{2} \\sin^{2}{\\left(\\phi \\right)} + 1}}}{\\sqrt{\\left(\\frac{a \\left(1 - e^{2}\\right) \\sin{\\left(\\phi \\right)}}{\\sqrt{- e^{2} \\sin^{2}{\\left(\\phi \\right)} + 1}} - z_{0}\\right)^{2} + \\left(\\frac{a \\sin{\\left(\\gamma \\right)} \\cos{\\left(\\phi \\right)}}{\\sqrt{- e^{2} \\sin^{2}{\\left(\\phi \\right)} + 1}} - y_{0}\\right)^{2} + \\left(\\frac{a \\cos{\\left(\\gamma \\right)} \\cos{\\left(\\phi \\right)}}{\\sqrt{- e^{2} \\sin^{2}{\\left(\\phi \\right)} + 1}} - x_{0}\\right)^{2}}} + \\frac{\\frac{a \\left(\\frac{a \\sin{\\left(\\gamma \\right)} \\cos{\\left(\\phi \\right)}}{\\sqrt{- e^{2} \\sin^{2}{\\left(\\phi \\right)} + 1}} - y_{1}\\right) \\cos{\\left(\\gamma \\right)} \\cos{\\left(\\phi \\right)}}{\\sqrt{- e^{2} \\sin^{2}{\\left(\\phi \\right)} + 1}} - \\frac{a \\left(\\frac{a \\cos{\\left(\\gamma \\right)} \\cos{\\left(\\phi \\right)}}{\\sqrt{- e^{2} \\sin^{2}{\\left(\\phi \\right)} + 1}} - x_{1}\\right) \\sin{\\left(\\gamma \\right)} \\cos{\\left(\\phi \\right)}}{\\sqrt{- e^{2} \\sin^{2}{\\left(\\phi \\right)} + 1}}}{\\sqrt{\\left(\\frac{a \\left(1 - e^{2}\\right) \\sin{\\left(\\phi \\right)}}{\\sqrt{- e^{2} \\sin^{2}{\\left(\\phi \\right)} + 1}} - z_{1}\\right)^{2} + \\left(\\frac{a \\sin{\\left(\\gamma \\right)} \\cos{\\left(\\phi \\right)}}{\\sqrt{- e^{2} \\sin^{2}{\\left(\\phi \\right)} + 1}} - y_{1}\\right)^{2} + \\left(\\frac{a \\cos{\\left(\\gamma \\right)} \\cos{\\left(\\phi \\right)}}{\\sqrt{- e^{2} \\sin^{2}{\\left(\\phi \\right)} + 1}} - x_{1}\\right)^{2}}}}{c}$"
      ],
      "text/plain": [
       "(-(a*(a*sin(gamma)*cos(phi)/sqrt(-e^2*sin(phi)**2 + 1) - y_0)*cos(gamma)*cos(phi)/sqrt(-e^2*sin(phi)**2 + 1) - a*(a*cos(gamma)*cos(phi)/sqrt(-e^2*sin(phi)**2 + 1) - x_0)*sin(gamma)*cos(phi)/sqrt(-e^2*sin(phi)**2 + 1))/sqrt((a*(1 - e^2)*sin(phi)/sqrt(-e^2*sin(phi)**2 + 1) - z_0)**2 + (a*sin(gamma)*cos(phi)/sqrt(-e^2*sin(phi)**2 + 1) - y_0)**2 + (a*cos(gamma)*cos(phi)/sqrt(-e^2*sin(phi)**2 + 1) - x_0)**2) + (a*(a*sin(gamma)*cos(phi)/sqrt(-e^2*sin(phi)**2 + 1) - y_1)*cos(gamma)*cos(phi)/sqrt(-e^2*sin(phi)**2 + 1) - a*(a*cos(gamma)*cos(phi)/sqrt(-e^2*sin(phi)**2 + 1) - x_1)*sin(gamma)*cos(phi)/sqrt(-e^2*sin(phi)**2 + 1))/sqrt((a*(1 - e^2)*sin(phi)/sqrt(-e^2*sin(phi)**2 + 1) - z_1)**2 + (a*sin(gamma)*cos(phi)/sqrt(-e^2*sin(phi)**2 + 1) - y_1)**2 + (a*cos(gamma)*cos(phi)/sqrt(-e^2*sin(phi)**2 + 1) - x_1)**2))/c"
      ]
     },
     "execution_count": 7,
     "metadata": {},
     "output_type": "execute_result"
    }
   ],
   "source": [
    "sympy.diff((ds(phi,gamma,x1,y1,z1)-ds(phi,gamma,x0,y0,z0))/c,gamma)"
   ]
  },
  {
   "cell_type": "code",
   "execution_count": 15,
   "metadata": {},
   "outputs": [
    {
     "data": {
      "text/latex": [
       "$\\displaystyle - \\frac{\\frac{\\left(\\frac{a \\left(1 - e^{2}\\right) \\sin{\\left(\\phi \\right)}}{\\sqrt{- e^{2} \\sin^{2}{\\left(\\phi \\right)} + 1}} - z_{0}\\right) \\left(\\frac{2 a e^{2} \\cdot \\left(1 - e^{2}\\right) \\sin^{2}{\\left(\\phi \\right)} \\cos{\\left(\\phi \\right)}}{\\left(- e^{2} \\sin^{2}{\\left(\\phi \\right)} + 1\\right)^{\\frac{3}{2}}} + \\frac{2 a \\left(1 - e^{2}\\right) \\cos{\\left(\\phi \\right)}}{\\sqrt{- e^{2} \\sin^{2}{\\left(\\phi \\right)} + 1}}\\right)}{2} + \\frac{\\left(\\frac{a \\sin{\\left(\\gamma \\right)} \\cos{\\left(\\phi \\right)}}{\\sqrt{- e^{2} \\sin^{2}{\\left(\\phi \\right)} + 1}} - y_{0}\\right) \\left(\\frac{2 a e^{2} \\sin{\\left(\\gamma \\right)} \\sin{\\left(\\phi \\right)} \\cos^{2}{\\left(\\phi \\right)}}{\\left(- e^{2} \\sin^{2}{\\left(\\phi \\right)} + 1\\right)^{\\frac{3}{2}}} - \\frac{2 a \\sin{\\left(\\gamma \\right)} \\sin{\\left(\\phi \\right)}}{\\sqrt{- e^{2} \\sin^{2}{\\left(\\phi \\right)} + 1}}\\right)}{2} + \\frac{\\left(\\frac{a \\cos{\\left(\\gamma \\right)} \\cos{\\left(\\phi \\right)}}{\\sqrt{- e^{2} \\sin^{2}{\\left(\\phi \\right)} + 1}} - x_{0}\\right) \\left(\\frac{2 a e^{2} \\sin{\\left(\\phi \\right)} \\cos{\\left(\\gamma \\right)} \\cos^{2}{\\left(\\phi \\right)}}{\\left(- e^{2} \\sin^{2}{\\left(\\phi \\right)} + 1\\right)^{\\frac{3}{2}}} - \\frac{2 a \\sin{\\left(\\phi \\right)} \\cos{\\left(\\gamma \\right)}}{\\sqrt{- e^{2} \\sin^{2}{\\left(\\phi \\right)} + 1}}\\right)}{2}}{\\sqrt{\\left(\\frac{a \\left(1 - e^{2}\\right) \\sin{\\left(\\phi \\right)}}{\\sqrt{- e^{2} \\sin^{2}{\\left(\\phi \\right)} + 1}} - z_{0}\\right)^{2} + \\left(\\frac{a \\sin{\\left(\\gamma \\right)} \\cos{\\left(\\phi \\right)}}{\\sqrt{- e^{2} \\sin^{2}{\\left(\\phi \\right)} + 1}} - y_{0}\\right)^{2} + \\left(\\frac{a \\cos{\\left(\\gamma \\right)} \\cos{\\left(\\phi \\right)}}{\\sqrt{- e^{2} \\sin^{2}{\\left(\\phi \\right)} + 1}} - x_{0}\\right)^{2}}} + \\frac{\\frac{\\left(\\frac{a \\left(1 - e^{2}\\right) \\sin{\\left(\\phi \\right)}}{\\sqrt{- e^{2} \\sin^{2}{\\left(\\phi \\right)} + 1}} - z_{1}\\right) \\left(\\frac{2 a e^{2} \\cdot \\left(1 - e^{2}\\right) \\sin^{2}{\\left(\\phi \\right)} \\cos{\\left(\\phi \\right)}}{\\left(- e^{2} \\sin^{2}{\\left(\\phi \\right)} + 1\\right)^{\\frac{3}{2}}} + \\frac{2 a \\left(1 - e^{2}\\right) \\cos{\\left(\\phi \\right)}}{\\sqrt{- e^{2} \\sin^{2}{\\left(\\phi \\right)} + 1}}\\right)}{2} + \\frac{\\left(\\frac{a \\sin{\\left(\\gamma \\right)} \\cos{\\left(\\phi \\right)}}{\\sqrt{- e^{2} \\sin^{2}{\\left(\\phi \\right)} + 1}} - y_{1}\\right) \\left(\\frac{2 a e^{2} \\sin{\\left(\\gamma \\right)} \\sin{\\left(\\phi \\right)} \\cos^{2}{\\left(\\phi \\right)}}{\\left(- e^{2} \\sin^{2}{\\left(\\phi \\right)} + 1\\right)^{\\frac{3}{2}}} - \\frac{2 a \\sin{\\left(\\gamma \\right)} \\sin{\\left(\\phi \\right)}}{\\sqrt{- e^{2} \\sin^{2}{\\left(\\phi \\right)} + 1}}\\right)}{2} + \\frac{\\left(\\frac{a \\cos{\\left(\\gamma \\right)} \\cos{\\left(\\phi \\right)}}{\\sqrt{- e^{2} \\sin^{2}{\\left(\\phi \\right)} + 1}} - x_{1}\\right) \\left(\\frac{2 a e^{2} \\sin{\\left(\\phi \\right)} \\cos{\\left(\\gamma \\right)} \\cos^{2}{\\left(\\phi \\right)}}{\\left(- e^{2} \\sin^{2}{\\left(\\phi \\right)} + 1\\right)^{\\frac{3}{2}}} - \\frac{2 a \\sin{\\left(\\phi \\right)} \\cos{\\left(\\gamma \\right)}}{\\sqrt{- e^{2} \\sin^{2}{\\left(\\phi \\right)} + 1}}\\right)}{2}}{\\sqrt{\\left(\\frac{a \\left(1 - e^{2}\\right) \\sin{\\left(\\phi \\right)}}{\\sqrt{- e^{2} \\sin^{2}{\\left(\\phi \\right)} + 1}} - z_{1}\\right)^{2} + \\left(\\frac{a \\sin{\\left(\\gamma \\right)} \\cos{\\left(\\phi \\right)}}{\\sqrt{- e^{2} \\sin^{2}{\\left(\\phi \\right)} + 1}} - y_{1}\\right)^{2} + \\left(\\frac{a \\cos{\\left(\\gamma \\right)} \\cos{\\left(\\phi \\right)}}{\\sqrt{- e^{2} \\sin^{2}{\\left(\\phi \\right)} + 1}} - x_{1}\\right)^{2}}}$"
      ],
      "text/plain": [
       "-((a*(1 - e^2)*sin(phi)/sqrt(-e^2*sin(phi)**2 + 1) - z_0)*(2*a*e^2*(1 - e^2)*sin(phi)**2*cos(phi)/(-e^2*sin(phi)**2 + 1)**(3/2) + 2*a*(1 - e^2)*cos(phi)/sqrt(-e^2*sin(phi)**2 + 1))/2 + (a*sin(gamma)*cos(phi)/sqrt(-e^2*sin(phi)**2 + 1) - y_0)*(2*a*e^2*sin(gamma)*sin(phi)*cos(phi)**2/(-e^2*sin(phi)**2 + 1)**(3/2) - 2*a*sin(gamma)*sin(phi)/sqrt(-e^2*sin(phi)**2 + 1))/2 + (a*cos(gamma)*cos(phi)/sqrt(-e^2*sin(phi)**2 + 1) - x_0)*(2*a*e^2*sin(phi)*cos(gamma)*cos(phi)**2/(-e^2*sin(phi)**2 + 1)**(3/2) - 2*a*sin(phi)*cos(gamma)/sqrt(-e^2*sin(phi)**2 + 1))/2)/sqrt((a*(1 - e^2)*sin(phi)/sqrt(-e^2*sin(phi)**2 + 1) - z_0)**2 + (a*sin(gamma)*cos(phi)/sqrt(-e^2*sin(phi)**2 + 1) - y_0)**2 + (a*cos(gamma)*cos(phi)/sqrt(-e^2*sin(phi)**2 + 1) - x_0)**2) + ((a*(1 - e^2)*sin(phi)/sqrt(-e^2*sin(phi)**2 + 1) - z_1)*(2*a*e^2*(1 - e^2)*sin(phi)**2*cos(phi)/(-e^2*sin(phi)**2 + 1)**(3/2) + 2*a*(1 - e^2)*cos(phi)/sqrt(-e^2*sin(phi)**2 + 1))/2 + (a*sin(gamma)*cos(phi)/sqrt(-e^2*sin(phi)**2 + 1) - y_1)*(2*a*e^2*sin(gamma)*sin(phi)*cos(phi)**2/(-e^2*sin(phi)**2 + 1)**(3/2) - 2*a*sin(gamma)*sin(phi)/sqrt(-e^2*sin(phi)**2 + 1))/2 + (a*cos(gamma)*cos(phi)/sqrt(-e^2*sin(phi)**2 + 1) - x_1)*(2*a*e^2*sin(phi)*cos(gamma)*cos(phi)**2/(-e^2*sin(phi)**2 + 1)**(3/2) - 2*a*sin(phi)*cos(gamma)/sqrt(-e^2*sin(phi)**2 + 1))/2)/sqrt((a*(1 - e^2)*sin(phi)/sqrt(-e^2*sin(phi)**2 + 1) - z_1)**2 + (a*sin(gamma)*cos(phi)/sqrt(-e^2*sin(phi)**2 + 1) - y_1)**2 + (a*cos(gamma)*cos(phi)/sqrt(-e^2*sin(phi)**2 + 1) - x_1)**2)"
      ]
     },
     "execution_count": 15,
     "metadata": {},
     "output_type": "execute_result"
    }
   ],
   "source": [
    "sympy.diff((ds(phi,gamma,x1,y1,z1)-ds(phi,gamma,x0,y0,z0))/c,phi)*c"
   ]
  },
  {
   "cell_type": "code",
   "execution_count": 8,
   "metadata": {},
   "outputs": [
    {
     "data": {
      "text/plain": [
       "'(-((1/2)*(a*(1 - e^2)*math.sin(phi)/math.sqrt(-e^2*math.sin(phi)**2 + 1) - z_0)*(2*a*e^2*(1 - e^2)*math.sin(phi)**2*math.cos(phi)/(-e^2*math.sin(phi)**2 + 1)**(3/2) + 2*a*(1 - e^2)*math.cos(phi)/math.sqrt(-e^2*math.sin(phi)**2 + 1)) + (1/2)*(a*math.sin(gamma)*math.cos(phi)/math.sqrt(-e^2*math.sin(phi)**2 + 1) - y_0)*(2*a*e^2*math.sin(gamma)*math.sin(phi)*math.cos(phi)**2/(-e^2*math.sin(phi)**2 + 1)**(3/2) - 2*a*math.sin(gamma)*math.sin(phi)/math.sqrt(-e^2*math.sin(phi)**2 + 1)) + (1/2)*(a*math.cos(gamma)*math.cos(phi)/math.sqrt(-e^2*math.sin(phi)**2 + 1) - x_0)*(2*a*e^2*math.sin(phi)*math.cos(gamma)*math.cos(phi)**2/(-e^2*math.sin(phi)**2 + 1)**(3/2) - 2*a*math.sin(phi)*math.cos(gamma)/math.sqrt(-e^2*math.sin(phi)**2 + 1)))/math.sqrt((a*(1 - e^2)*math.sin(phi)/math.sqrt(-e^2*math.sin(phi)**2 + 1) - z_0)**2 + (a*math.sin(gamma)*math.cos(phi)/math.sqrt(-e^2*math.sin(phi)**2 + 1) - y_0)**2 + (a*math.cos(gamma)*math.cos(phi)/math.sqrt(-e^2*math.sin(phi)**2 + 1) - x_0)**2) + ((1/2)*(a*(1 - e^2)*math.sin(phi)/math.sqrt(-e^2*math.sin(phi)**2 + 1) - z_1)*(2*a*e^2*(1 - e^2)*math.sin(phi)**2*math.cos(phi)/(-e^2*math.sin(phi)**2 + 1)**(3/2) + 2*a*(1 - e^2)*math.cos(phi)/math.sqrt(-e^2*math.sin(phi)**2 + 1)) + (1/2)*(a*math.sin(gamma)*math.cos(phi)/math.sqrt(-e^2*math.sin(phi)**2 + 1) - y_1)*(2*a*e^2*math.sin(gamma)*math.sin(phi)*math.cos(phi)**2/(-e^2*math.sin(phi)**2 + 1)**(3/2) - 2*a*math.sin(gamma)*math.sin(phi)/math.sqrt(-e^2*math.sin(phi)**2 + 1)) + (1/2)*(a*math.cos(gamma)*math.cos(phi)/math.sqrt(-e^2*math.sin(phi)**2 + 1) - x_1)*(2*a*e^2*math.sin(phi)*math.cos(gamma)*math.cos(phi)**2/(-e^2*math.sin(phi)**2 + 1)**(3/2) - 2*a*math.sin(phi)*math.cos(gamma)/math.sqrt(-e^2*math.sin(phi)**2 + 1)))/math.sqrt((a*(1 - e^2)*math.sin(phi)/math.sqrt(-e^2*math.sin(phi)**2 + 1) - z_1)**2 + (a*math.sin(gamma)*math.cos(phi)/math.sqrt(-e^2*math.sin(phi)**2 + 1) - y_1)**2 + (a*math.cos(gamma)*math.cos(phi)/math.sqrt(-e^2*math.sin(phi)**2 + 1) - x_1)**2))/c'"
      ]
     },
     "execution_count": 8,
     "metadata": {},
     "output_type": "execute_result"
    }
   ],
   "source": [
    "sympy.pycode(sympy.diff((ds(phi,gamma,x1,y1,z1)-ds(phi,gamma,x0,y0,z0))/c,phi))"
   ]
  },
  {
   "cell_type": "code",
   "execution_count": 9,
   "metadata": {},
   "outputs": [
    {
     "ename": "NameError",
     "evalue": "name 'math' is not defined",
     "output_type": "error",
     "traceback": [
      "\u001b[1;31m---------------------------------------------------------------------------\u001b[0m",
      "\u001b[1;31mNameError\u001b[0m                                 Traceback (most recent call last)",
      "Cell \u001b[1;32mIn[9], line 1\u001b[0m\n\u001b[1;32m----> 1\u001b[0m (\u001b[38;5;241m-\u001b[39m(a\u001b[38;5;241m*\u001b[39m(a\u001b[38;5;241m*\u001b[39m\u001b[43mmath\u001b[49m\u001b[38;5;241m.\u001b[39msin(gamma)\u001b[38;5;241m*\u001b[39mmath\u001b[38;5;241m.\u001b[39mcos(phi)\u001b[38;5;241m/\u001b[39mmath\u001b[38;5;241m.\u001b[39msqrt(\u001b[38;5;241m-\u001b[39me\u001b[38;5;241m^\u001b[39m\u001b[38;5;241m2\u001b[39m\u001b[38;5;241m*\u001b[39mmath\u001b[38;5;241m.\u001b[39msin(phi)\u001b[38;5;241m*\u001b[39m\u001b[38;5;241m*\u001b[39m\u001b[38;5;241m2\u001b[39m \u001b[38;5;241m+\u001b[39m \u001b[38;5;241m1\u001b[39m) \u001b[38;5;241m-\u001b[39m y_0)\u001b[38;5;241m*\u001b[39mmath\u001b[38;5;241m.\u001b[39mcos(gamma)\u001b[38;5;241m*\u001b[39mmath\u001b[38;5;241m.\u001b[39mcos(phi)\u001b[38;5;241m/\u001b[39mmath\u001b[38;5;241m.\u001b[39msqrt(\u001b[38;5;241m-\u001b[39me\u001b[38;5;241m^\u001b[39m\u001b[38;5;241m2\u001b[39m\u001b[38;5;241m*\u001b[39mmath\u001b[38;5;241m.\u001b[39msin(phi)\u001b[38;5;241m*\u001b[39m\u001b[38;5;241m*\u001b[39m\u001b[38;5;241m2\u001b[39m \u001b[38;5;241m+\u001b[39m \u001b[38;5;241m1\u001b[39m) \u001b[38;5;241m-\u001b[39m a\u001b[38;5;241m*\u001b[39m(a\u001b[38;5;241m*\u001b[39mmath\u001b[38;5;241m.\u001b[39mcos(gamma)\u001b[38;5;241m*\u001b[39mmath\u001b[38;5;241m.\u001b[39mcos(phi)\u001b[38;5;241m/\u001b[39mmath\u001b[38;5;241m.\u001b[39msqrt(\u001b[38;5;241m-\u001b[39me\u001b[38;5;241m^\u001b[39m\u001b[38;5;241m2\u001b[39m\u001b[38;5;241m*\u001b[39mmath\u001b[38;5;241m.\u001b[39msin(phi)\u001b[38;5;241m*\u001b[39m\u001b[38;5;241m*\u001b[39m\u001b[38;5;241m2\u001b[39m \u001b[38;5;241m+\u001b[39m \u001b[38;5;241m1\u001b[39m) \u001b[38;5;241m-\u001b[39m x_0)\u001b[38;5;241m*\u001b[39mmath\u001b[38;5;241m.\u001b[39msin(gamma)\u001b[38;5;241m*\u001b[39mmath\u001b[38;5;241m.\u001b[39mcos(phi)\u001b[38;5;241m/\u001b[39mmath\u001b[38;5;241m.\u001b[39msqrt(\u001b[38;5;241m-\u001b[39me\u001b[38;5;241m^\u001b[39m\u001b[38;5;241m2\u001b[39m\u001b[38;5;241m*\u001b[39mmath\u001b[38;5;241m.\u001b[39msin(phi)\u001b[38;5;241m*\u001b[39m\u001b[38;5;241m*\u001b[39m\u001b[38;5;241m2\u001b[39m \u001b[38;5;241m+\u001b[39m \u001b[38;5;241m1\u001b[39m))\u001b[38;5;241m/\u001b[39mmath\u001b[38;5;241m.\u001b[39msqrt((a\u001b[38;5;241m*\u001b[39m(\u001b[38;5;241m1\u001b[39m \u001b[38;5;241m-\u001b[39m e\u001b[38;5;241m^\u001b[39m\u001b[38;5;241m2\u001b[39m)\u001b[38;5;241m*\u001b[39mmath\u001b[38;5;241m.\u001b[39msin(phi)\u001b[38;5;241m/\u001b[39mmath\u001b[38;5;241m.\u001b[39msqrt(\u001b[38;5;241m-\u001b[39me\u001b[38;5;241m^\u001b[39m\u001b[38;5;241m2\u001b[39m\u001b[38;5;241m*\u001b[39mmath\u001b[38;5;241m.\u001b[39msin(phi)\u001b[38;5;241m*\u001b[39m\u001b[38;5;241m*\u001b[39m\u001b[38;5;241m2\u001b[39m \u001b[38;5;241m+\u001b[39m \u001b[38;5;241m1\u001b[39m) \u001b[38;5;241m-\u001b[39m z_0)\u001b[38;5;241m*\u001b[39m\u001b[38;5;241m*\u001b[39m\u001b[38;5;241m2\u001b[39m \u001b[38;5;241m+\u001b[39m (a\u001b[38;5;241m*\u001b[39mmath\u001b[38;5;241m.\u001b[39msin(gamma)\u001b[38;5;241m*\u001b[39mmath\u001b[38;5;241m.\u001b[39mcos(phi)\u001b[38;5;241m/\u001b[39mmath\u001b[38;5;241m.\u001b[39msqrt(\u001b[38;5;241m-\u001b[39me\u001b[38;5;241m^\u001b[39m\u001b[38;5;241m2\u001b[39m\u001b[38;5;241m*\u001b[39mmath\u001b[38;5;241m.\u001b[39msin(phi)\u001b[38;5;241m*\u001b[39m\u001b[38;5;241m*\u001b[39m\u001b[38;5;241m2\u001b[39m \u001b[38;5;241m+\u001b[39m \u001b[38;5;241m1\u001b[39m) \u001b[38;5;241m-\u001b[39m y_0)\u001b[38;5;241m*\u001b[39m\u001b[38;5;241m*\u001b[39m\u001b[38;5;241m2\u001b[39m \u001b[38;5;241m+\u001b[39m (a\u001b[38;5;241m*\u001b[39mmath\u001b[38;5;241m.\u001b[39mcos(gamma)\u001b[38;5;241m*\u001b[39mmath\u001b[38;5;241m.\u001b[39mcos(phi)\u001b[38;5;241m/\u001b[39mmath\u001b[38;5;241m.\u001b[39msqrt(\u001b[38;5;241m-\u001b[39me\u001b[38;5;241m^\u001b[39m\u001b[38;5;241m2\u001b[39m\u001b[38;5;241m*\u001b[39mmath\u001b[38;5;241m.\u001b[39msin(phi)\u001b[38;5;241m*\u001b[39m\u001b[38;5;241m*\u001b[39m\u001b[38;5;241m2\u001b[39m \u001b[38;5;241m+\u001b[39m \u001b[38;5;241m1\u001b[39m) \u001b[38;5;241m-\u001b[39m x_0)\u001b[38;5;241m*\u001b[39m\u001b[38;5;241m*\u001b[39m\u001b[38;5;241m2\u001b[39m) \u001b[38;5;241m+\u001b[39m (a\u001b[38;5;241m*\u001b[39m(a\u001b[38;5;241m*\u001b[39mmath\u001b[38;5;241m.\u001b[39msin(gamma)\u001b[38;5;241m*\u001b[39mmath\u001b[38;5;241m.\u001b[39mcos(phi)\u001b[38;5;241m/\u001b[39mmath\u001b[38;5;241m.\u001b[39msqrt(\u001b[38;5;241m-\u001b[39me\u001b[38;5;241m^\u001b[39m\u001b[38;5;241m2\u001b[39m\u001b[38;5;241m*\u001b[39mmath\u001b[38;5;241m.\u001b[39msin(phi)\u001b[38;5;241m*\u001b[39m\u001b[38;5;241m*\u001b[39m\u001b[38;5;241m2\u001b[39m \u001b[38;5;241m+\u001b[39m \u001b[38;5;241m1\u001b[39m) \u001b[38;5;241m-\u001b[39m y_1)\u001b[38;5;241m*\u001b[39mmath\u001b[38;5;241m.\u001b[39mcos(gamma)\u001b[38;5;241m*\u001b[39mmath\u001b[38;5;241m.\u001b[39mcos(phi)\u001b[38;5;241m/\u001b[39mmath\u001b[38;5;241m.\u001b[39msqrt(\u001b[38;5;241m-\u001b[39me\u001b[38;5;241m^\u001b[39m\u001b[38;5;241m2\u001b[39m\u001b[38;5;241m*\u001b[39mmath\u001b[38;5;241m.\u001b[39msin(phi)\u001b[38;5;241m*\u001b[39m\u001b[38;5;241m*\u001b[39m\u001b[38;5;241m2\u001b[39m \u001b[38;5;241m+\u001b[39m \u001b[38;5;241m1\u001b[39m) \u001b[38;5;241m-\u001b[39m a\u001b[38;5;241m*\u001b[39m(a\u001b[38;5;241m*\u001b[39mmath\u001b[38;5;241m.\u001b[39mcos(gamma)\u001b[38;5;241m*\u001b[39mmath\u001b[38;5;241m.\u001b[39mcos(phi)\u001b[38;5;241m/\u001b[39mmath\u001b[38;5;241m.\u001b[39msqrt(\u001b[38;5;241m-\u001b[39me\u001b[38;5;241m^\u001b[39m\u001b[38;5;241m2\u001b[39m\u001b[38;5;241m*\u001b[39mmath\u001b[38;5;241m.\u001b[39msin(phi)\u001b[38;5;241m*\u001b[39m\u001b[38;5;241m*\u001b[39m\u001b[38;5;241m2\u001b[39m \u001b[38;5;241m+\u001b[39m \u001b[38;5;241m1\u001b[39m) \u001b[38;5;241m-\u001b[39m x_1)\u001b[38;5;241m*\u001b[39mmath\u001b[38;5;241m.\u001b[39msin(gamma)\u001b[38;5;241m*\u001b[39mmath\u001b[38;5;241m.\u001b[39mcos(phi)\u001b[38;5;241m/\u001b[39mmath\u001b[38;5;241m.\u001b[39msqrt(\u001b[38;5;241m-\u001b[39me\u001b[38;5;241m^\u001b[39m\u001b[38;5;241m2\u001b[39m\u001b[38;5;241m*\u001b[39mmath\u001b[38;5;241m.\u001b[39msin(phi)\u001b[38;5;241m*\u001b[39m\u001b[38;5;241m*\u001b[39m\u001b[38;5;241m2\u001b[39m \u001b[38;5;241m+\u001b[39m \u001b[38;5;241m1\u001b[39m))\u001b[38;5;241m/\u001b[39mmath\u001b[38;5;241m.\u001b[39msqrt((a\u001b[38;5;241m*\u001b[39m(\u001b[38;5;241m1\u001b[39m \u001b[38;5;241m-\u001b[39m e\u001b[38;5;241m^\u001b[39m\u001b[38;5;241m2\u001b[39m)\u001b[38;5;241m*\u001b[39mmath\u001b[38;5;241m.\u001b[39msin(phi)\u001b[38;5;241m/\u001b[39mmath\u001b[38;5;241m.\u001b[39msqrt(\u001b[38;5;241m-\u001b[39me\u001b[38;5;241m^\u001b[39m\u001b[38;5;241m2\u001b[39m\u001b[38;5;241m*\u001b[39mmath\u001b[38;5;241m.\u001b[39msin(phi)\u001b[38;5;241m*\u001b[39m\u001b[38;5;241m*\u001b[39m\u001b[38;5;241m2\u001b[39m \u001b[38;5;241m+\u001b[39m \u001b[38;5;241m1\u001b[39m) \u001b[38;5;241m-\u001b[39m z_1)\u001b[38;5;241m*\u001b[39m\u001b[38;5;241m*\u001b[39m\u001b[38;5;241m2\u001b[39m \u001b[38;5;241m+\u001b[39m (a\u001b[38;5;241m*\u001b[39mmath\u001b[38;5;241m.\u001b[39msin(gamma)\u001b[38;5;241m*\u001b[39mmath\u001b[38;5;241m.\u001b[39mcos(phi)\u001b[38;5;241m/\u001b[39mmath\u001b[38;5;241m.\u001b[39msqrt(\u001b[38;5;241m-\u001b[39me\u001b[38;5;241m^\u001b[39m\u001b[38;5;241m2\u001b[39m\u001b[38;5;241m*\u001b[39mmath\u001b[38;5;241m.\u001b[39msin(phi)\u001b[38;5;241m*\u001b[39m\u001b[38;5;241m*\u001b[39m\u001b[38;5;241m2\u001b[39m \u001b[38;5;241m+\u001b[39m \u001b[38;5;241m1\u001b[39m) \u001b[38;5;241m-\u001b[39m y_1)\u001b[38;5;241m*\u001b[39m\u001b[38;5;241m*\u001b[39m\u001b[38;5;241m2\u001b[39m \u001b[38;5;241m+\u001b[39m (a\u001b[38;5;241m*\u001b[39mmath\u001b[38;5;241m.\u001b[39mcos(gamma)\u001b[38;5;241m*\u001b[39mmath\u001b[38;5;241m.\u001b[39mcos(phi)\u001b[38;5;241m/\u001b[39mmath\u001b[38;5;241m.\u001b[39msqrt(\u001b[38;5;241m-\u001b[39me\u001b[38;5;241m^\u001b[39m\u001b[38;5;241m2\u001b[39m\u001b[38;5;241m*\u001b[39mmath\u001b[38;5;241m.\u001b[39msin(phi)\u001b[38;5;241m*\u001b[39m\u001b[38;5;241m*\u001b[39m\u001b[38;5;241m2\u001b[39m \u001b[38;5;241m+\u001b[39m \u001b[38;5;241m1\u001b[39m) \u001b[38;5;241m-\u001b[39m x_1)\u001b[38;5;241m*\u001b[39m\u001b[38;5;241m*\u001b[39m\u001b[38;5;241m2\u001b[39m))\u001b[38;5;241m/\u001b[39mc\n",
      "\u001b[1;31mNameError\u001b[0m: name 'math' is not defined"
     ]
    }
   ],
   "source": [
    "(-(a*(a*math.sin(gamma)*math.cos(phi)/math.sqrt(-e^2*math.sin(phi)**2 + 1) - y_0)*math.cos(gamma)*math.cos(phi)/math.sqrt(-e^2*math.sin(phi)**2 + 1) - a*(a*math.cos(gamma)*math.cos(phi)/math.sqrt(-e^2*math.sin(phi)**2 + 1) - x_0)*math.sin(gamma)*math.cos(phi)/math.sqrt(-e^2*math.sin(phi)**2 + 1))/math.sqrt((a*(1 - e^2)*math.sin(phi)/math.sqrt(-e^2*math.sin(phi)**2 + 1) - z_0)**2 + (a*math.sin(gamma)*math.cos(phi)/math.sqrt(-e^2*math.sin(phi)**2 + 1) - y_0)**2 + (a*math.cos(gamma)*math.cos(phi)/math.sqrt(-e^2*math.sin(phi)**2 + 1) - x_0)**2) + (a*(a*math.sin(gamma)*math.cos(phi)/math.sqrt(-e^2*math.sin(phi)**2 + 1) - y_1)*math.cos(gamma)*math.cos(phi)/math.sqrt(-e^2*math.sin(phi)**2 + 1) - a*(a*math.cos(gamma)*math.cos(phi)/math.sqrt(-e^2*math.sin(phi)**2 + 1) - x_1)*math.sin(gamma)*math.cos(phi)/math.sqrt(-e^2*math.sin(phi)**2 + 1))/math.sqrt((a*(1 - e^2)*math.sin(phi)/math.sqrt(-e^2*math.sin(phi)**2 + 1) - z_1)**2 + (a*math.sin(gamma)*math.cos(phi)/math.sqrt(-e^2*math.sin(phi)**2 + 1) - y_1)**2 + (a*math.cos(gamma)*math.cos(phi)/math.sqrt(-e^2*math.sin(phi)**2 + 1) - x_1)**2))/c"
   ]
  }
 ],
 "metadata": {
  "kernelspec": {
   "display_name": ".venv",
   "language": "python",
   "name": "python3"
  },
  "language_info": {
   "codemirror_mode": {
    "name": "ipython",
    "version": 3
   },
   "file_extension": ".py",
   "mimetype": "text/x-python",
   "name": "python",
   "nbconvert_exporter": "python",
   "pygments_lexer": "ipython3",
   "version": "3.11.5"
  }
 },
 "nbformat": 4,
 "nbformat_minor": 2
}
