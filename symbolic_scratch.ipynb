{
 "cells": [
  {
   "cell_type": "code",
   "execution_count": 1,
   "metadata": {},
   "outputs": [],
   "source": [
    "import sympy"
   ]
  },
  {
   "cell_type": "code",
   "execution_count": 2,
   "metadata": {},
   "outputs": [],
   "source": [
    "a,esq,phi,gamma = sympy.symbols(\"a,e^2,phi,gamma\")\n",
    "x0,y0,z0=sympy.symbols(\"x_0,y_0,z_0\")\n",
    "x1,y1,z1=sympy.symbols(\"x_1,y_1,z_1\")"
   ]
  },
  {
   "cell_type": "code",
   "execution_count": 36,
   "metadata": {},
   "outputs": [],
   "source": [
    "def veq(phi):\n",
    "    return a/sympy.sqrt(1-esq*sympy.sin(phi)**2)"
   ]
  },
  {
   "cell_type": "code",
   "execution_count": 4,
   "metadata": {},
   "outputs": [
    {
     "data": {
      "text/latex": [
       "$\\displaystyle \\frac{a}{\\sqrt{- e^{2} \\sin^{2}{\\left(\\phi \\right)} + 1}}$"
      ],
      "text/plain": [
       "a/sqrt(-e^2*sin(phi)**2 + 1)"
      ]
     },
     "execution_count": 4,
     "metadata": {},
     "output_type": "execute_result"
    }
   ],
   "source": [
    "v(phi)"
   ]
  },
  {
   "cell_type": "code",
   "execution_count": 5,
   "metadata": {},
   "outputs": [],
   "source": [
    "def ds(phi,gamma,x,y,z):\n",
    "    return sympy.sqrt((v(phi)*sympy.cos(phi)*sympy.cos(gamma)-x)**2 \n",
    "                   + (v(phi)*sympy.cos(phi)*sympy.sin(gamma)-y)**2 \n",
    "                   + ((1-esq)*v(phi)*sympy.sin(phi)-z)**2)"
   ]
  },
  {
   "cell_type": "code",
   "execution_count": 6,
   "metadata": {},
   "outputs": [],
   "source": [
    "c=sympy.symbols(\"c\")"
   ]
  },
  {
   "cell_type": "code",
   "execution_count": 7,
   "metadata": {},
   "outputs": [
    {
     "data": {
      "text/latex": [
       "$\\displaystyle \\frac{- \\frac{\\frac{a \\left(\\frac{a \\sin{\\left(\\gamma \\right)} \\cos{\\left(\\phi \\right)}}{\\sqrt{- e^{2} \\sin^{2}{\\left(\\phi \\right)} + 1}} - y_{0}\\right) \\cos{\\left(\\gamma \\right)} \\cos{\\left(\\phi \\right)}}{\\sqrt{- e^{2} \\sin^{2}{\\left(\\phi \\right)} + 1}} - \\frac{a \\left(\\frac{a \\cos{\\left(\\gamma \\right)} \\cos{\\left(\\phi \\right)}}{\\sqrt{- e^{2} \\sin^{2}{\\left(\\phi \\right)} + 1}} - x_{0}\\right) \\sin{\\left(\\gamma \\right)} \\cos{\\left(\\phi \\right)}}{\\sqrt{- e^{2} \\sin^{2}{\\left(\\phi \\right)} + 1}}}{\\sqrt{\\left(\\frac{a \\left(1 - e^{2}\\right) \\sin{\\left(\\phi \\right)}}{\\sqrt{- e^{2} \\sin^{2}{\\left(\\phi \\right)} + 1}} - z_{0}\\right)^{2} + \\left(\\frac{a \\sin{\\left(\\gamma \\right)} \\cos{\\left(\\phi \\right)}}{\\sqrt{- e^{2} \\sin^{2}{\\left(\\phi \\right)} + 1}} - y_{0}\\right)^{2} + \\left(\\frac{a \\cos{\\left(\\gamma \\right)} \\cos{\\left(\\phi \\right)}}{\\sqrt{- e^{2} \\sin^{2}{\\left(\\phi \\right)} + 1}} - x_{0}\\right)^{2}}} + \\frac{\\frac{a \\left(\\frac{a \\sin{\\left(\\gamma \\right)} \\cos{\\left(\\phi \\right)}}{\\sqrt{- e^{2} \\sin^{2}{\\left(\\phi \\right)} + 1}} - y_{1}\\right) \\cos{\\left(\\gamma \\right)} \\cos{\\left(\\phi \\right)}}{\\sqrt{- e^{2} \\sin^{2}{\\left(\\phi \\right)} + 1}} - \\frac{a \\left(\\frac{a \\cos{\\left(\\gamma \\right)} \\cos{\\left(\\phi \\right)}}{\\sqrt{- e^{2} \\sin^{2}{\\left(\\phi \\right)} + 1}} - x_{1}\\right) \\sin{\\left(\\gamma \\right)} \\cos{\\left(\\phi \\right)}}{\\sqrt{- e^{2} \\sin^{2}{\\left(\\phi \\right)} + 1}}}{\\sqrt{\\left(\\frac{a \\left(1 - e^{2}\\right) \\sin{\\left(\\phi \\right)}}{\\sqrt{- e^{2} \\sin^{2}{\\left(\\phi \\right)} + 1}} - z_{1}\\right)^{2} + \\left(\\frac{a \\sin{\\left(\\gamma \\right)} \\cos{\\left(\\phi \\right)}}{\\sqrt{- e^{2} \\sin^{2}{\\left(\\phi \\right)} + 1}} - y_{1}\\right)^{2} + \\left(\\frac{a \\cos{\\left(\\gamma \\right)} \\cos{\\left(\\phi \\right)}}{\\sqrt{- e^{2} \\sin^{2}{\\left(\\phi \\right)} + 1}} - x_{1}\\right)^{2}}}}{c}$"
      ],
      "text/plain": [
       "(-(a*(a*sin(gamma)*cos(phi)/sqrt(-e^2*sin(phi)**2 + 1) - y_0)*cos(gamma)*cos(phi)/sqrt(-e^2*sin(phi)**2 + 1) - a*(a*cos(gamma)*cos(phi)/sqrt(-e^2*sin(phi)**2 + 1) - x_0)*sin(gamma)*cos(phi)/sqrt(-e^2*sin(phi)**2 + 1))/sqrt((a*(1 - e^2)*sin(phi)/sqrt(-e^2*sin(phi)**2 + 1) - z_0)**2 + (a*sin(gamma)*cos(phi)/sqrt(-e^2*sin(phi)**2 + 1) - y_0)**2 + (a*cos(gamma)*cos(phi)/sqrt(-e^2*sin(phi)**2 + 1) - x_0)**2) + (a*(a*sin(gamma)*cos(phi)/sqrt(-e^2*sin(phi)**2 + 1) - y_1)*cos(gamma)*cos(phi)/sqrt(-e^2*sin(phi)**2 + 1) - a*(a*cos(gamma)*cos(phi)/sqrt(-e^2*sin(phi)**2 + 1) - x_1)*sin(gamma)*cos(phi)/sqrt(-e^2*sin(phi)**2 + 1))/sqrt((a*(1 - e^2)*sin(phi)/sqrt(-e^2*sin(phi)**2 + 1) - z_1)**2 + (a*sin(gamma)*cos(phi)/sqrt(-e^2*sin(phi)**2 + 1) - y_1)**2 + (a*cos(gamma)*cos(phi)/sqrt(-e^2*sin(phi)**2 + 1) - x_1)**2))/c"
      ]
     },
     "execution_count": 7,
     "metadata": {},
     "output_type": "execute_result"
    }
   ],
   "source": [
    "sympy.diff((ds(phi,gamma,x1,y1,z1)-ds(phi,gamma,x0,y0,z0))/c,gamma)"
   ]
  },
  {
   "cell_type": "code",
   "execution_count": 15,
   "metadata": {},
   "outputs": [
    {
     "data": {
      "text/latex": [
       "$\\displaystyle - \\frac{\\frac{\\left(\\frac{a \\left(1 - e^{2}\\right) \\sin{\\left(\\phi \\right)}}{\\sqrt{- e^{2} \\sin^{2}{\\left(\\phi \\right)} + 1}} - z_{0}\\right) \\left(\\frac{2 a e^{2} \\cdot \\left(1 - e^{2}\\right) \\sin^{2}{\\left(\\phi \\right)} \\cos{\\left(\\phi \\right)}}{\\left(- e^{2} \\sin^{2}{\\left(\\phi \\right)} + 1\\right)^{\\frac{3}{2}}} + \\frac{2 a \\left(1 - e^{2}\\right) \\cos{\\left(\\phi \\right)}}{\\sqrt{- e^{2} \\sin^{2}{\\left(\\phi \\right)} + 1}}\\right)}{2} + \\frac{\\left(\\frac{a \\sin{\\left(\\gamma \\right)} \\cos{\\left(\\phi \\right)}}{\\sqrt{- e^{2} \\sin^{2}{\\left(\\phi \\right)} + 1}} - y_{0}\\right) \\left(\\frac{2 a e^{2} \\sin{\\left(\\gamma \\right)} \\sin{\\left(\\phi \\right)} \\cos^{2}{\\left(\\phi \\right)}}{\\left(- e^{2} \\sin^{2}{\\left(\\phi \\right)} + 1\\right)^{\\frac{3}{2}}} - \\frac{2 a \\sin{\\left(\\gamma \\right)} \\sin{\\left(\\phi \\right)}}{\\sqrt{- e^{2} \\sin^{2}{\\left(\\phi \\right)} + 1}}\\right)}{2} + \\frac{\\left(\\frac{a \\cos{\\left(\\gamma \\right)} \\cos{\\left(\\phi \\right)}}{\\sqrt{- e^{2} \\sin^{2}{\\left(\\phi \\right)} + 1}} - x_{0}\\right) \\left(\\frac{2 a e^{2} \\sin{\\left(\\phi \\right)} \\cos{\\left(\\gamma \\right)} \\cos^{2}{\\left(\\phi \\right)}}{\\left(- e^{2} \\sin^{2}{\\left(\\phi \\right)} + 1\\right)^{\\frac{3}{2}}} - \\frac{2 a \\sin{\\left(\\phi \\right)} \\cos{\\left(\\gamma \\right)}}{\\sqrt{- e^{2} \\sin^{2}{\\left(\\phi \\right)} + 1}}\\right)}{2}}{\\sqrt{\\left(\\frac{a \\left(1 - e^{2}\\right) \\sin{\\left(\\phi \\right)}}{\\sqrt{- e^{2} \\sin^{2}{\\left(\\phi \\right)} + 1}} - z_{0}\\right)^{2} + \\left(\\frac{a \\sin{\\left(\\gamma \\right)} \\cos{\\left(\\phi \\right)}}{\\sqrt{- e^{2} \\sin^{2}{\\left(\\phi \\right)} + 1}} - y_{0}\\right)^{2} + \\left(\\frac{a \\cos{\\left(\\gamma \\right)} \\cos{\\left(\\phi \\right)}}{\\sqrt{- e^{2} \\sin^{2}{\\left(\\phi \\right)} + 1}} - x_{0}\\right)^{2}}} + \\frac{\\frac{\\left(\\frac{a \\left(1 - e^{2}\\right) \\sin{\\left(\\phi \\right)}}{\\sqrt{- e^{2} \\sin^{2}{\\left(\\phi \\right)} + 1}} - z_{1}\\right) \\left(\\frac{2 a e^{2} \\cdot \\left(1 - e^{2}\\right) \\sin^{2}{\\left(\\phi \\right)} \\cos{\\left(\\phi \\right)}}{\\left(- e^{2} \\sin^{2}{\\left(\\phi \\right)} + 1\\right)^{\\frac{3}{2}}} + \\frac{2 a \\left(1 - e^{2}\\right) \\cos{\\left(\\phi \\right)}}{\\sqrt{- e^{2} \\sin^{2}{\\left(\\phi \\right)} + 1}}\\right)}{2} + \\frac{\\left(\\frac{a \\sin{\\left(\\gamma \\right)} \\cos{\\left(\\phi \\right)}}{\\sqrt{- e^{2} \\sin^{2}{\\left(\\phi \\right)} + 1}} - y_{1}\\right) \\left(\\frac{2 a e^{2} \\sin{\\left(\\gamma \\right)} \\sin{\\left(\\phi \\right)} \\cos^{2}{\\left(\\phi \\right)}}{\\left(- e^{2} \\sin^{2}{\\left(\\phi \\right)} + 1\\right)^{\\frac{3}{2}}} - \\frac{2 a \\sin{\\left(\\gamma \\right)} \\sin{\\left(\\phi \\right)}}{\\sqrt{- e^{2} \\sin^{2}{\\left(\\phi \\right)} + 1}}\\right)}{2} + \\frac{\\left(\\frac{a \\cos{\\left(\\gamma \\right)} \\cos{\\left(\\phi \\right)}}{\\sqrt{- e^{2} \\sin^{2}{\\left(\\phi \\right)} + 1}} - x_{1}\\right) \\left(\\frac{2 a e^{2} \\sin{\\left(\\phi \\right)} \\cos{\\left(\\gamma \\right)} \\cos^{2}{\\left(\\phi \\right)}}{\\left(- e^{2} \\sin^{2}{\\left(\\phi \\right)} + 1\\right)^{\\frac{3}{2}}} - \\frac{2 a \\sin{\\left(\\phi \\right)} \\cos{\\left(\\gamma \\right)}}{\\sqrt{- e^{2} \\sin^{2}{\\left(\\phi \\right)} + 1}}\\right)}{2}}{\\sqrt{\\left(\\frac{a \\left(1 - e^{2}\\right) \\sin{\\left(\\phi \\right)}}{\\sqrt{- e^{2} \\sin^{2}{\\left(\\phi \\right)} + 1}} - z_{1}\\right)^{2} + \\left(\\frac{a \\sin{\\left(\\gamma \\right)} \\cos{\\left(\\phi \\right)}}{\\sqrt{- e^{2} \\sin^{2}{\\left(\\phi \\right)} + 1}} - y_{1}\\right)^{2} + \\left(\\frac{a \\cos{\\left(\\gamma \\right)} \\cos{\\left(\\phi \\right)}}{\\sqrt{- e^{2} \\sin^{2}{\\left(\\phi \\right)} + 1}} - x_{1}\\right)^{2}}}$"
      ],
      "text/plain": [
       "-((a*(1 - e^2)*sin(phi)/sqrt(-e^2*sin(phi)**2 + 1) - z_0)*(2*a*e^2*(1 - e^2)*sin(phi)**2*cos(phi)/(-e^2*sin(phi)**2 + 1)**(3/2) + 2*a*(1 - e^2)*cos(phi)/sqrt(-e^2*sin(phi)**2 + 1))/2 + (a*sin(gamma)*cos(phi)/sqrt(-e^2*sin(phi)**2 + 1) - y_0)*(2*a*e^2*sin(gamma)*sin(phi)*cos(phi)**2/(-e^2*sin(phi)**2 + 1)**(3/2) - 2*a*sin(gamma)*sin(phi)/sqrt(-e^2*sin(phi)**2 + 1))/2 + (a*cos(gamma)*cos(phi)/sqrt(-e^2*sin(phi)**2 + 1) - x_0)*(2*a*e^2*sin(phi)*cos(gamma)*cos(phi)**2/(-e^2*sin(phi)**2 + 1)**(3/2) - 2*a*sin(phi)*cos(gamma)/sqrt(-e^2*sin(phi)**2 + 1))/2)/sqrt((a*(1 - e^2)*sin(phi)/sqrt(-e^2*sin(phi)**2 + 1) - z_0)**2 + (a*sin(gamma)*cos(phi)/sqrt(-e^2*sin(phi)**2 + 1) - y_0)**2 + (a*cos(gamma)*cos(phi)/sqrt(-e^2*sin(phi)**2 + 1) - x_0)**2) + ((a*(1 - e^2)*sin(phi)/sqrt(-e^2*sin(phi)**2 + 1) - z_1)*(2*a*e^2*(1 - e^2)*sin(phi)**2*cos(phi)/(-e^2*sin(phi)**2 + 1)**(3/2) + 2*a*(1 - e^2)*cos(phi)/sqrt(-e^2*sin(phi)**2 + 1))/2 + (a*sin(gamma)*cos(phi)/sqrt(-e^2*sin(phi)**2 + 1) - y_1)*(2*a*e^2*sin(gamma)*sin(phi)*cos(phi)**2/(-e^2*sin(phi)**2 + 1)**(3/2) - 2*a*sin(gamma)*sin(phi)/sqrt(-e^2*sin(phi)**2 + 1))/2 + (a*cos(gamma)*cos(phi)/sqrt(-e^2*sin(phi)**2 + 1) - x_1)*(2*a*e^2*sin(phi)*cos(gamma)*cos(phi)**2/(-e^2*sin(phi)**2 + 1)**(3/2) - 2*a*sin(phi)*cos(gamma)/sqrt(-e^2*sin(phi)**2 + 1))/2)/sqrt((a*(1 - e^2)*sin(phi)/sqrt(-e^2*sin(phi)**2 + 1) - z_1)**2 + (a*sin(gamma)*cos(phi)/sqrt(-e^2*sin(phi)**2 + 1) - y_1)**2 + (a*cos(gamma)*cos(phi)/sqrt(-e^2*sin(phi)**2 + 1) - x_1)**2)"
      ]
     },
     "execution_count": 15,
     "metadata": {},
     "output_type": "execute_result"
    }
   ],
   "source": [
    "sympy.diff((ds(phi,gamma,x1,y1,z1)-ds(phi,gamma,x0,y0,z0))/c,phi)*c"
   ]
  },
  {
   "cell_type": "code",
   "execution_count": 8,
   "metadata": {},
   "outputs": [
    {
     "data": {
      "text/plain": [
       "'(-((1/2)*(a*(1 - e^2)*math.sin(phi)/math.sqrt(-e^2*math.sin(phi)**2 + 1) - z_0)*(2*a*e^2*(1 - e^2)*math.sin(phi)**2*math.cos(phi)/(-e^2*math.sin(phi)**2 + 1)**(3/2) + 2*a*(1 - e^2)*math.cos(phi)/math.sqrt(-e^2*math.sin(phi)**2 + 1)) + (1/2)*(a*math.sin(gamma)*math.cos(phi)/math.sqrt(-e^2*math.sin(phi)**2 + 1) - y_0)*(2*a*e^2*math.sin(gamma)*math.sin(phi)*math.cos(phi)**2/(-e^2*math.sin(phi)**2 + 1)**(3/2) - 2*a*math.sin(gamma)*math.sin(phi)/math.sqrt(-e^2*math.sin(phi)**2 + 1)) + (1/2)*(a*math.cos(gamma)*math.cos(phi)/math.sqrt(-e^2*math.sin(phi)**2 + 1) - x_0)*(2*a*e^2*math.sin(phi)*math.cos(gamma)*math.cos(phi)**2/(-e^2*math.sin(phi)**2 + 1)**(3/2) - 2*a*math.sin(phi)*math.cos(gamma)/math.sqrt(-e^2*math.sin(phi)**2 + 1)))/math.sqrt((a*(1 - e^2)*math.sin(phi)/math.sqrt(-e^2*math.sin(phi)**2 + 1) - z_0)**2 + (a*math.sin(gamma)*math.cos(phi)/math.sqrt(-e^2*math.sin(phi)**2 + 1) - y_0)**2 + (a*math.cos(gamma)*math.cos(phi)/math.sqrt(-e^2*math.sin(phi)**2 + 1) - x_0)**2) + ((1/2)*(a*(1 - e^2)*math.sin(phi)/math.sqrt(-e^2*math.sin(phi)**2 + 1) - z_1)*(2*a*e^2*(1 - e^2)*math.sin(phi)**2*math.cos(phi)/(-e^2*math.sin(phi)**2 + 1)**(3/2) + 2*a*(1 - e^2)*math.cos(phi)/math.sqrt(-e^2*math.sin(phi)**2 + 1)) + (1/2)*(a*math.sin(gamma)*math.cos(phi)/math.sqrt(-e^2*math.sin(phi)**2 + 1) - y_1)*(2*a*e^2*math.sin(gamma)*math.sin(phi)*math.cos(phi)**2/(-e^2*math.sin(phi)**2 + 1)**(3/2) - 2*a*math.sin(gamma)*math.sin(phi)/math.sqrt(-e^2*math.sin(phi)**2 + 1)) + (1/2)*(a*math.cos(gamma)*math.cos(phi)/math.sqrt(-e^2*math.sin(phi)**2 + 1) - x_1)*(2*a*e^2*math.sin(phi)*math.cos(gamma)*math.cos(phi)**2/(-e^2*math.sin(phi)**2 + 1)**(3/2) - 2*a*math.sin(phi)*math.cos(gamma)/math.sqrt(-e^2*math.sin(phi)**2 + 1)))/math.sqrt((a*(1 - e^2)*math.sin(phi)/math.sqrt(-e^2*math.sin(phi)**2 + 1) - z_1)**2 + (a*math.sin(gamma)*math.cos(phi)/math.sqrt(-e^2*math.sin(phi)**2 + 1) - y_1)**2 + (a*math.cos(gamma)*math.cos(phi)/math.sqrt(-e^2*math.sin(phi)**2 + 1) - x_1)**2))/c'"
      ]
     },
     "execution_count": 8,
     "metadata": {},
     "output_type": "execute_result"
    }
   ],
   "source": [
    "sympy.pycode(sympy.diff((ds(phi,gamma,x1,y1,z1)-ds(phi,gamma,x0,y0,z0))/c,phi))"
   ]
  },
  {
   "cell_type": "code",
   "execution_count": 34,
   "metadata": {},
   "outputs": [],
   "source": [
    "a,esq,phi,gamma = sympy.symbols(\"a,e^2,phi,gamma\")\n",
    "x,y,z=sympy.symbols(\"x,y,z\")\n",
    "u,v,w=sympy.symbols(\"u,v,w\")\n",
    "a,b,c=sympy.symbols(\"a,b,c\")\n",
    "h=sympy.symbols(\"h\")"
   ]
  },
  {
   "cell_type": "code",
   "execution_count": 15,
   "metadata": {},
   "outputs": [],
   "source": [
    "d={\"x\":(veq(phi)*sympy.cos(phi)*sympy.cos(gamma)), \n",
    "\"y\":(veq(phi)*sympy.cos(phi)*sympy.sin(gamma)),\n",
    "\"z\":((1-esq)*veq(phi)*sympy.sin(phi))}"
   ]
  },
  {
   "cell_type": "code",
   "execution_count": 18,
   "metadata": {},
   "outputs": [],
   "source": [
    "eq_phi_gamma = sympy.Eq((x**2 /a**2)+(y**2 /b**2)+(z**2 /c**2),\n",
    "         (x*u /a**2)+(y*v /b**2)+(z*w /c**2)).subs(d)"
   ]
  },
  {
   "cell_type": "code",
   "execution_count": 19,
   "metadata": {},
   "outputs": [
    {
     "ename": "KeyboardInterrupt",
     "evalue": "",
     "output_type": "error",
     "traceback": [
      "\u001b[1;31m---------------------------------------------------------------------------\u001b[0m",
      "\u001b[1;31mKeyboardInterrupt\u001b[0m                         Traceback (most recent call last)",
      "Cell \u001b[1;32mIn[19], line 1\u001b[0m\n\u001b[1;32m----> 1\u001b[0m \u001b[43msympy\u001b[49m\u001b[38;5;241;43m.\u001b[39;49m\u001b[43msolve\u001b[49m\u001b[43m(\u001b[49m\u001b[43meq_lat_lon\u001b[49m\u001b[43m,\u001b[49m\u001b[43mgamma\u001b[49m\u001b[43m)\u001b[49m\n",
      "File \u001b[1;32mc:\\Users\\kf5kf\\Python\\Senior Seminar\\.venv\\Lib\\site-packages\\sympy\\solvers\\solvers.py:1145\u001b[0m, in \u001b[0;36msolve\u001b[1;34m(f, *symbols, **flags)\u001b[0m\n\u001b[0;32m   1143\u001b[0m         solution \u001b[38;5;241m=\u001b[39m _solve_undetermined(f[\u001b[38;5;241m0\u001b[39m], symbols, flags)\n\u001b[0;32m   1144\u001b[0m     \u001b[38;5;28;01mif\u001b[39;00m \u001b[38;5;129;01mnot\u001b[39;00m solution:\n\u001b[1;32m-> 1145\u001b[0m         solution \u001b[38;5;241m=\u001b[39m \u001b[43m_solve\u001b[49m\u001b[43m(\u001b[49m\u001b[43mf\u001b[49m\u001b[43m[\u001b[49m\u001b[38;5;241;43m0\u001b[39;49m\u001b[43m]\u001b[49m\u001b[43m,\u001b[49m\u001b[43m \u001b[49m\u001b[38;5;241;43m*\u001b[39;49m\u001b[43msymbols\u001b[49m\u001b[43m,\u001b[49m\u001b[43m \u001b[49m\u001b[38;5;241;43m*\u001b[39;49m\u001b[38;5;241;43m*\u001b[39;49m\u001b[43mflags\u001b[49m\u001b[43m)\u001b[49m\n\u001b[0;32m   1146\u001b[0m \u001b[38;5;28;01melse\u001b[39;00m:\n\u001b[0;32m   1147\u001b[0m     linear, solution \u001b[38;5;241m=\u001b[39m _solve_system(f, symbols, \u001b[38;5;241m*\u001b[39m\u001b[38;5;241m*\u001b[39mflags)\n",
      "File \u001b[1;32mc:\\Users\\kf5kf\\Python\\Senior Seminar\\.venv\\Lib\\site-packages\\sympy\\solvers\\solvers.py:1535\u001b[0m, in \u001b[0;36m_solve\u001b[1;34m(f, *symbols, **flags)\u001b[0m\n\u001b[0;32m   1531\u001b[0m     \u001b[38;5;28;01mif\u001b[39;00m newf \u001b[38;5;241m!=\u001b[39m f_num:\n\u001b[0;32m   1532\u001b[0m         \u001b[38;5;66;03m# don't check the rewritten form --check\u001b[39;00m\n\u001b[0;32m   1533\u001b[0m         \u001b[38;5;66;03m# solutions in the un-rewritten form below\u001b[39;00m\n\u001b[0;32m   1534\u001b[0m         flags[\u001b[38;5;124m'\u001b[39m\u001b[38;5;124mcheck\u001b[39m\u001b[38;5;124m'\u001b[39m] \u001b[38;5;241m=\u001b[39m \u001b[38;5;28;01mFalse\u001b[39;00m\n\u001b[1;32m-> 1535\u001b[0m         result \u001b[38;5;241m=\u001b[39m \u001b[43m_solve\u001b[49m\u001b[43m(\u001b[49m\u001b[43mnewf\u001b[49m\u001b[43m,\u001b[49m\u001b[43m \u001b[49m\u001b[43msymbol\u001b[49m\u001b[43m,\u001b[49m\u001b[43m \u001b[49m\u001b[38;5;241;43m*\u001b[39;49m\u001b[38;5;241;43m*\u001b[39;49m\u001b[43mflags\u001b[49m\u001b[43m)\u001b[49m\n\u001b[0;32m   1536\u001b[0m         flags[\u001b[38;5;124m'\u001b[39m\u001b[38;5;124mcheck\u001b[39m\u001b[38;5;124m'\u001b[39m] \u001b[38;5;241m=\u001b[39m check\n\u001b[0;32m   1538\u001b[0m \u001b[38;5;66;03m# just a simple case - see if replacement of single function\u001b[39;00m\n\u001b[0;32m   1539\u001b[0m \u001b[38;5;66;03m# clears all symbol-dependent functions, e.g.\u001b[39;00m\n\u001b[0;32m   1540\u001b[0m \u001b[38;5;66;03m# log(x) - log(log(x) - 1) - 3 can be solved even though it has\u001b[39;00m\n\u001b[0;32m   1541\u001b[0m \u001b[38;5;66;03m# two generators.\u001b[39;00m\n",
      "File \u001b[1;32mc:\\Users\\kf5kf\\Python\\Senior Seminar\\.venv\\Lib\\site-packages\\sympy\\solvers\\solvers.py:1604\u001b[0m, in \u001b[0;36m_solve\u001b[1;34m(f, *symbols, **flags)\u001b[0m\n\u001b[0;32m   1602\u001b[0m hints \u001b[38;5;241m=\u001b[39m (\u001b[38;5;124m'\u001b[39m\u001b[38;5;124mcubics\u001b[39m\u001b[38;5;124m'\u001b[39m, \u001b[38;5;124m'\u001b[39m\u001b[38;5;124mquartics\u001b[39m\u001b[38;5;124m'\u001b[39m, \u001b[38;5;124m'\u001b[39m\u001b[38;5;124mquintics\u001b[39m\u001b[38;5;124m'\u001b[39m)\n\u001b[0;32m   1603\u001b[0m solvers \u001b[38;5;241m=\u001b[39m {h: flags\u001b[38;5;241m.\u001b[39mget(h) \u001b[38;5;28;01mfor\u001b[39;00m h \u001b[38;5;129;01min\u001b[39;00m hints}\n\u001b[1;32m-> 1604\u001b[0m soln \u001b[38;5;241m=\u001b[39m \u001b[43mroots\u001b[49m\u001b[43m(\u001b[49m\u001b[43mpoly\u001b[49m\u001b[43m,\u001b[49m\u001b[43m \u001b[49m\u001b[38;5;241;43m*\u001b[39;49m\u001b[38;5;241;43m*\u001b[39;49m\u001b[43msolvers\u001b[49m\u001b[43m)\u001b[49m\n\u001b[0;32m   1605\u001b[0m \u001b[38;5;28;01mif\u001b[39;00m \u001b[38;5;28msum\u001b[39m(soln\u001b[38;5;241m.\u001b[39mvalues()) \u001b[38;5;241m<\u001b[39m deg:\n\u001b[0;32m   1606\u001b[0m     \u001b[38;5;66;03m# e.g. roots(32*x**5 + 400*x**4 + 2032*x**3 +\u001b[39;00m\n\u001b[0;32m   1607\u001b[0m     \u001b[38;5;66;03m#            5000*x**2 + 6250*x + 3189) -> {}\u001b[39;00m\n\u001b[0;32m   1608\u001b[0m     \u001b[38;5;66;03m# so all_roots is used and RootOf instances are\u001b[39;00m\n\u001b[0;32m   1609\u001b[0m     \u001b[38;5;66;03m# returned *unless* the system is multivariate\u001b[39;00m\n\u001b[0;32m   1610\u001b[0m     \u001b[38;5;66;03m# or high-order EX domain.\u001b[39;00m\n\u001b[0;32m   1611\u001b[0m     \u001b[38;5;28;01mtry\u001b[39;00m:\n",
      "File \u001b[1;32mc:\\Users\\kf5kf\\Python\\Senior Seminar\\.venv\\Lib\\site-packages\\sympy\\polys\\polyroots.py:1120\u001b[0m, in \u001b[0;36mroots\u001b[1;34m(f, auto, cubics, trig, quartics, quintics, multiple, filter, predicate, strict, *gens, **flags)\u001b[0m\n\u001b[0;32m   1118\u001b[0m             \u001b[38;5;28;01melse\u001b[39;00m:\n\u001b[0;32m   1119\u001b[0m                 \u001b[38;5;28;01mfor\u001b[39;00m currentfactor, k \u001b[38;5;129;01min\u001b[39;00m factors:\n\u001b[1;32m-> 1120\u001b[0m                     \u001b[38;5;28;01mfor\u001b[39;00m r \u001b[38;5;129;01min\u001b[39;00m \u001b[43m_try_heuristics\u001b[49m\u001b[43m(\u001b[49m\u001b[43mPoly\u001b[49m\u001b[43m(\u001b[49m\u001b[43mcurrentfactor\u001b[49m\u001b[43m,\u001b[49m\u001b[43m \u001b[49m\u001b[43mf\u001b[49m\u001b[38;5;241;43m.\u001b[39;49m\u001b[43mgen\u001b[49m\u001b[43m,\u001b[49m\u001b[43m \u001b[49m\u001b[43mfield\u001b[49m\u001b[38;5;241;43m=\u001b[39;49m\u001b[38;5;28;43;01mTrue\u001b[39;49;00m\u001b[43m)\u001b[49m\u001b[43m)\u001b[49m:\n\u001b[0;32m   1121\u001b[0m                         _update_dict(result, zeros, r, k)\n\u001b[0;32m   1123\u001b[0m \u001b[38;5;28;01mif\u001b[39;00m coeff \u001b[38;5;129;01mis\u001b[39;00m \u001b[38;5;129;01mnot\u001b[39;00m S\u001b[38;5;241m.\u001b[39mOne:\n",
      "File \u001b[1;32mc:\\Users\\kf5kf\\Python\\Senior Seminar\\.venv\\Lib\\site-packages\\sympy\\polys\\polyroots.py:1052\u001b[0m, in \u001b[0;36mroots.<locals>._try_heuristics\u001b[1;34m(f)\u001b[0m\n\u001b[0;32m   1050\u001b[0m     result \u001b[38;5;241m+\u001b[39m\u001b[38;5;241m=\u001b[39m roots_cubic(f, trig\u001b[38;5;241m=\u001b[39mtrig)\n\u001b[0;32m   1051\u001b[0m \u001b[38;5;28;01melif\u001b[39;00m n \u001b[38;5;241m==\u001b[39m \u001b[38;5;241m4\u001b[39m \u001b[38;5;129;01mand\u001b[39;00m quartics:\n\u001b[1;32m-> 1052\u001b[0m     result \u001b[38;5;241m+\u001b[39m\u001b[38;5;241m=\u001b[39m \u001b[43mroots_quartic\u001b[49m\u001b[43m(\u001b[49m\u001b[43mf\u001b[49m\u001b[43m)\u001b[49m\n\u001b[0;32m   1053\u001b[0m \u001b[38;5;28;01melif\u001b[39;00m n \u001b[38;5;241m==\u001b[39m \u001b[38;5;241m5\u001b[39m \u001b[38;5;129;01mand\u001b[39;00m quintics:\n\u001b[0;32m   1054\u001b[0m     result \u001b[38;5;241m+\u001b[39m\u001b[38;5;241m=\u001b[39m roots_quintic(f)\n",
      "File \u001b[1;32mc:\\Users\\kf5kf\\Python\\Senior Seminar\\.venv\\Lib\\site-packages\\sympy\\polys\\polyroots.py:316\u001b[0m, in \u001b[0;36mroots_quartic\u001b[1;34m(f)\u001b[0m\n\u001b[0;32m    314\u001b[0m f \u001b[38;5;241m=\u001b[39m _mexpand(c \u001b[38;5;241m+\u001b[39m a\u001b[38;5;241m*\u001b[39m(a2\u001b[38;5;241m/\u001b[39m\u001b[38;5;241m8\u001b[39m \u001b[38;5;241m-\u001b[39m b\u001b[38;5;241m/\u001b[39m\u001b[38;5;241m2\u001b[39m))\n\u001b[0;32m    315\u001b[0m aon4 \u001b[38;5;241m=\u001b[39m a\u001b[38;5;241m/\u001b[39m\u001b[38;5;241m4\u001b[39m\n\u001b[1;32m--> 316\u001b[0m g \u001b[38;5;241m=\u001b[39m \u001b[43m_mexpand\u001b[49m\u001b[43m(\u001b[49m\u001b[43md\u001b[49m\u001b[43m \u001b[49m\u001b[38;5;241;43m-\u001b[39;49m\u001b[43m \u001b[49m\u001b[43maon4\u001b[49m\u001b[38;5;241;43m*\u001b[39;49m\u001b[43m(\u001b[49m\u001b[43ma\u001b[49m\u001b[38;5;241;43m*\u001b[39;49m\u001b[43m(\u001b[49m\u001b[38;5;241;43m3\u001b[39;49m\u001b[38;5;241;43m*\u001b[39;49m\u001b[43ma2\u001b[49m\u001b[38;5;241;43m/\u001b[39;49m\u001b[38;5;241;43m64\u001b[39;49m\u001b[43m \u001b[49m\u001b[38;5;241;43m-\u001b[39;49m\u001b[43m \u001b[49m\u001b[43mb\u001b[49m\u001b[38;5;241;43m/\u001b[39;49m\u001b[38;5;241;43m4\u001b[39;49m\u001b[43m)\u001b[49m\u001b[43m \u001b[49m\u001b[38;5;241;43m+\u001b[39;49m\u001b[43m \u001b[49m\u001b[43mc\u001b[49m\u001b[43m)\u001b[49m\u001b[43m)\u001b[49m\n\u001b[0;32m    318\u001b[0m \u001b[38;5;28;01mif\u001b[39;00m f\u001b[38;5;241m.\u001b[39mis_zero:\n\u001b[0;32m    319\u001b[0m     y1, y2 \u001b[38;5;241m=\u001b[39m [sqrt(tmp) \u001b[38;5;28;01mfor\u001b[39;00m tmp \u001b[38;5;129;01min\u001b[39;00m\n\u001b[0;32m    320\u001b[0m               roots([\u001b[38;5;241m1\u001b[39m, e, g], multiple\u001b[38;5;241m=\u001b[39m\u001b[38;5;28;01mTrue\u001b[39;00m)]\n",
      "File \u001b[1;32mc:\\Users\\kf5kf\\Python\\Senior Seminar\\.venv\\Lib\\site-packages\\sympy\\core\\function.py:2828\u001b[0m, in \u001b[0;36m_mexpand\u001b[1;34m(expr, recursive)\u001b[0m\n\u001b[0;32m   2826\u001b[0m was \u001b[38;5;241m=\u001b[39m \u001b[38;5;28;01mNone\u001b[39;00m\n\u001b[0;32m   2827\u001b[0m \u001b[38;5;28;01mwhile\u001b[39;00m was \u001b[38;5;241m!=\u001b[39m expr:\n\u001b[1;32m-> 2828\u001b[0m     was, expr \u001b[38;5;241m=\u001b[39m expr, \u001b[43mexpand_mul\u001b[49m\u001b[43m(\u001b[49m\u001b[43mexpand_multinomial\u001b[49m\u001b[43m(\u001b[49m\u001b[43mexpr\u001b[49m\u001b[43m)\u001b[49m\u001b[43m)\u001b[49m\n\u001b[0;32m   2829\u001b[0m     \u001b[38;5;28;01mif\u001b[39;00m \u001b[38;5;129;01mnot\u001b[39;00m recursive:\n\u001b[0;32m   2830\u001b[0m         \u001b[38;5;28;01mbreak\u001b[39;00m\n",
      "File \u001b[1;32mc:\\Users\\kf5kf\\Python\\Senior Seminar\\.venv\\Lib\\site-packages\\sympy\\core\\function.py:2851\u001b[0m, in \u001b[0;36mexpand_mul\u001b[1;34m(expr, deep)\u001b[0m\n\u001b[0;32m   2837\u001b[0m \u001b[38;5;28;01mdef\u001b[39;00m \u001b[38;5;21mexpand_mul\u001b[39m(expr, deep\u001b[38;5;241m=\u001b[39m\u001b[38;5;28;01mTrue\u001b[39;00m):\n\u001b[0;32m   2838\u001b[0m \u001b[38;5;250m    \u001b[39m\u001b[38;5;124;03m\"\"\"\u001b[39;00m\n\u001b[0;32m   2839\u001b[0m \u001b[38;5;124;03m    Wrapper around expand that only uses the mul hint.  See the expand\u001b[39;00m\n\u001b[0;32m   2840\u001b[0m \u001b[38;5;124;03m    docstring for more information.\u001b[39;00m\n\u001b[1;32m   (...)\u001b[0m\n\u001b[0;32m   2849\u001b[0m \n\u001b[0;32m   2850\u001b[0m \u001b[38;5;124;03m    \"\"\"\u001b[39;00m\n\u001b[1;32m-> 2851\u001b[0m     \u001b[38;5;28;01mreturn\u001b[39;00m \u001b[43msympify\u001b[49m\u001b[43m(\u001b[49m\u001b[43mexpr\u001b[49m\u001b[43m)\u001b[49m\u001b[38;5;241;43m.\u001b[39;49m\u001b[43mexpand\u001b[49m\u001b[43m(\u001b[49m\u001b[43mdeep\u001b[49m\u001b[38;5;241;43m=\u001b[39;49m\u001b[43mdeep\u001b[49m\u001b[43m,\u001b[49m\u001b[43m \u001b[49m\u001b[43mmul\u001b[49m\u001b[38;5;241;43m=\u001b[39;49m\u001b[38;5;28;43;01mTrue\u001b[39;49;00m\u001b[43m,\u001b[49m\u001b[43m \u001b[49m\u001b[43mpower_exp\u001b[49m\u001b[38;5;241;43m=\u001b[39;49m\u001b[38;5;28;43;01mFalse\u001b[39;49;00m\u001b[43m,\u001b[49m\n\u001b[0;32m   2852\u001b[0m \u001b[43m    \u001b[49m\u001b[43mpower_base\u001b[49m\u001b[38;5;241;43m=\u001b[39;49m\u001b[38;5;28;43;01mFalse\u001b[39;49;00m\u001b[43m,\u001b[49m\u001b[43m \u001b[49m\u001b[43mbasic\u001b[49m\u001b[38;5;241;43m=\u001b[39;49m\u001b[38;5;28;43;01mFalse\u001b[39;49;00m\u001b[43m,\u001b[49m\u001b[43m \u001b[49m\u001b[43mmultinomial\u001b[49m\u001b[38;5;241;43m=\u001b[39;49m\u001b[38;5;28;43;01mFalse\u001b[39;49;00m\u001b[43m,\u001b[49m\u001b[43m \u001b[49m\u001b[43mlog\u001b[49m\u001b[38;5;241;43m=\u001b[39;49m\u001b[38;5;28;43;01mFalse\u001b[39;49;00m\u001b[43m)\u001b[49m\n",
      "File \u001b[1;32mc:\\Users\\kf5kf\\Python\\Senior Seminar\\.venv\\Lib\\site-packages\\sympy\\core\\cache.py:72\u001b[0m, in \u001b[0;36m__cacheit.<locals>.func_wrapper.<locals>.wrapper\u001b[1;34m(*args, **kwargs)\u001b[0m\n\u001b[0;32m     69\u001b[0m \u001b[38;5;129m@wraps\u001b[39m(func)\n\u001b[0;32m     70\u001b[0m \u001b[38;5;28;01mdef\u001b[39;00m \u001b[38;5;21mwrapper\u001b[39m(\u001b[38;5;241m*\u001b[39margs, \u001b[38;5;241m*\u001b[39m\u001b[38;5;241m*\u001b[39mkwargs):\n\u001b[0;32m     71\u001b[0m     \u001b[38;5;28;01mtry\u001b[39;00m:\n\u001b[1;32m---> 72\u001b[0m         retval \u001b[38;5;241m=\u001b[39m \u001b[43mcfunc\u001b[49m\u001b[43m(\u001b[49m\u001b[38;5;241;43m*\u001b[39;49m\u001b[43margs\u001b[49m\u001b[43m,\u001b[49m\u001b[43m \u001b[49m\u001b[38;5;241;43m*\u001b[39;49m\u001b[38;5;241;43m*\u001b[39;49m\u001b[43mkwargs\u001b[49m\u001b[43m)\u001b[49m\n\u001b[0;32m     73\u001b[0m     \u001b[38;5;28;01mexcept\u001b[39;00m \u001b[38;5;167;01mTypeError\u001b[39;00m \u001b[38;5;28;01mas\u001b[39;00m e:\n\u001b[0;32m     74\u001b[0m         \u001b[38;5;28;01mif\u001b[39;00m \u001b[38;5;129;01mnot\u001b[39;00m e\u001b[38;5;241m.\u001b[39margs \u001b[38;5;129;01mor\u001b[39;00m \u001b[38;5;129;01mnot\u001b[39;00m e\u001b[38;5;241m.\u001b[39margs[\u001b[38;5;241m0\u001b[39m]\u001b[38;5;241m.\u001b[39mstartswith(\u001b[38;5;124m'\u001b[39m\u001b[38;5;124munhashable type:\u001b[39m\u001b[38;5;124m'\u001b[39m):\n",
      "File \u001b[1;32mc:\\Users\\kf5kf\\Python\\Senior Seminar\\.venv\\Lib\\site-packages\\sympy\\core\\expr.py:3690\u001b[0m, in \u001b[0;36mExpr.expand\u001b[1;34m(self, deep, modulus, power_base, power_exp, mul, log, multinomial, basic, **hints)\u001b[0m\n\u001b[0;32m   3687\u001b[0m     expr, _ \u001b[38;5;241m=\u001b[39m Expr\u001b[38;5;241m.\u001b[39m_expand_hint(\n\u001b[0;32m   3688\u001b[0m         expr, \u001b[38;5;124m'\u001b[39m\u001b[38;5;124m_eval_expand_multinomial\u001b[39m\u001b[38;5;124m'\u001b[39m, deep\u001b[38;5;241m=\u001b[39mdeep, \u001b[38;5;241m*\u001b[39m\u001b[38;5;241m*\u001b[39mhints)\n\u001b[0;32m   3689\u001b[0m \u001b[38;5;28;01mif\u001b[39;00m hints\u001b[38;5;241m.\u001b[39mget(\u001b[38;5;124m'\u001b[39m\u001b[38;5;124mmul\u001b[39m\u001b[38;5;124m'\u001b[39m, \u001b[38;5;28;01mFalse\u001b[39;00m):\n\u001b[1;32m-> 3690\u001b[0m     expr, _ \u001b[38;5;241m=\u001b[39m \u001b[43mExpr\u001b[49m\u001b[38;5;241;43m.\u001b[39;49m\u001b[43m_expand_hint\u001b[49m\u001b[43m(\u001b[49m\n\u001b[0;32m   3691\u001b[0m \u001b[43m        \u001b[49m\u001b[43mexpr\u001b[49m\u001b[43m,\u001b[49m\u001b[43m \u001b[49m\u001b[38;5;124;43m'\u001b[39;49m\u001b[38;5;124;43m_eval_expand_mul\u001b[39;49m\u001b[38;5;124;43m'\u001b[39;49m\u001b[43m,\u001b[49m\u001b[43m \u001b[49m\u001b[43mdeep\u001b[49m\u001b[38;5;241;43m=\u001b[39;49m\u001b[43mdeep\u001b[49m\u001b[43m,\u001b[49m\u001b[43m \u001b[49m\u001b[38;5;241;43m*\u001b[39;49m\u001b[38;5;241;43m*\u001b[39;49m\u001b[43mhints\u001b[49m\u001b[43m)\u001b[49m\n\u001b[0;32m   3692\u001b[0m \u001b[38;5;28;01mif\u001b[39;00m hints\u001b[38;5;241m.\u001b[39mget(\u001b[38;5;124m'\u001b[39m\u001b[38;5;124mlog\u001b[39m\u001b[38;5;124m'\u001b[39m, \u001b[38;5;28;01mFalse\u001b[39;00m):\n\u001b[0;32m   3693\u001b[0m     expr, _ \u001b[38;5;241m=\u001b[39m Expr\u001b[38;5;241m.\u001b[39m_expand_hint(\n\u001b[0;32m   3694\u001b[0m         expr, \u001b[38;5;124m'\u001b[39m\u001b[38;5;124m_eval_expand_log\u001b[39m\u001b[38;5;124m'\u001b[39m, deep\u001b[38;5;241m=\u001b[39mdeep, \u001b[38;5;241m*\u001b[39m\u001b[38;5;241m*\u001b[39mhints)\n",
      "File \u001b[1;32mc:\\Users\\kf5kf\\Python\\Senior Seminar\\.venv\\Lib\\site-packages\\sympy\\core\\expr.py:3615\u001b[0m, in \u001b[0;36mExpr._expand_hint\u001b[1;34m(expr, hint, deep, **hints)\u001b[0m\n\u001b[0;32m   3613\u001b[0m sargs \u001b[38;5;241m=\u001b[39m []\n\u001b[0;32m   3614\u001b[0m \u001b[38;5;28;01mfor\u001b[39;00m arg \u001b[38;5;129;01min\u001b[39;00m expr\u001b[38;5;241m.\u001b[39margs:\n\u001b[1;32m-> 3615\u001b[0m     arg, arghit \u001b[38;5;241m=\u001b[39m \u001b[43mExpr\u001b[49m\u001b[38;5;241;43m.\u001b[39;49m\u001b[43m_expand_hint\u001b[49m\u001b[43m(\u001b[49m\u001b[43marg\u001b[49m\u001b[43m,\u001b[49m\u001b[43m \u001b[49m\u001b[43mhint\u001b[49m\u001b[43m,\u001b[49m\u001b[43m \u001b[49m\u001b[38;5;241;43m*\u001b[39;49m\u001b[38;5;241;43m*\u001b[39;49m\u001b[43mhints\u001b[49m\u001b[43m)\u001b[49m\n\u001b[0;32m   3616\u001b[0m     hit \u001b[38;5;241m|\u001b[39m\u001b[38;5;241m=\u001b[39m arghit\n\u001b[0;32m   3617\u001b[0m     sargs\u001b[38;5;241m.\u001b[39mappend(arg)\n",
      "File \u001b[1;32mc:\\Users\\kf5kf\\Python\\Senior Seminar\\.venv\\Lib\\site-packages\\sympy\\core\\expr.py:3623\u001b[0m, in \u001b[0;36mExpr._expand_hint\u001b[1;34m(expr, hint, deep, **hints)\u001b[0m\n\u001b[0;32m   3620\u001b[0m         expr \u001b[38;5;241m=\u001b[39m expr\u001b[38;5;241m.\u001b[39mfunc(\u001b[38;5;241m*\u001b[39msargs)\n\u001b[0;32m   3622\u001b[0m \u001b[38;5;28;01mif\u001b[39;00m \u001b[38;5;28mhasattr\u001b[39m(expr, hint):\n\u001b[1;32m-> 3623\u001b[0m     newexpr \u001b[38;5;241m=\u001b[39m \u001b[38;5;28;43mgetattr\u001b[39;49m\u001b[43m(\u001b[49m\u001b[43mexpr\u001b[49m\u001b[43m,\u001b[49m\u001b[43m \u001b[49m\u001b[43mhint\u001b[49m\u001b[43m)\u001b[49m\u001b[43m(\u001b[49m\u001b[38;5;241;43m*\u001b[39;49m\u001b[38;5;241;43m*\u001b[39;49m\u001b[43mhints\u001b[49m\u001b[43m)\u001b[49m\n\u001b[0;32m   3624\u001b[0m     \u001b[38;5;28;01mif\u001b[39;00m newexpr \u001b[38;5;241m!=\u001b[39m expr:\n\u001b[0;32m   3625\u001b[0m         \u001b[38;5;28;01mreturn\u001b[39;00m (newexpr, \u001b[38;5;28;01mTrue\u001b[39;00m)\n",
      "File \u001b[1;32mc:\\Users\\kf5kf\\Python\\Senior Seminar\\.venv\\Lib\\site-packages\\sympy\\core\\mul.py:924\u001b[0m, in \u001b[0;36mMul._eval_expand_mul\u001b[1;34m(self, **hints)\u001b[0m\n\u001b[0;32m    922\u001b[0m n, d \u001b[38;5;241m=\u001b[39m fraction(expr)\n\u001b[0;32m    923\u001b[0m \u001b[38;5;28;01mif\u001b[39;00m d\u001b[38;5;241m.\u001b[39mis_Mul:\n\u001b[1;32m--> 924\u001b[0m     n, d \u001b[38;5;241m=\u001b[39m \u001b[43m[\u001b[49m\u001b[43mi\u001b[49m\u001b[38;5;241;43m.\u001b[39;49m\u001b[43m_eval_expand_mul\u001b[49m\u001b[43m(\u001b[49m\u001b[38;5;241;43m*\u001b[39;49m\u001b[38;5;241;43m*\u001b[39;49m\u001b[43mhints\u001b[49m\u001b[43m)\u001b[49m\u001b[43m \u001b[49m\u001b[38;5;28;43;01mif\u001b[39;49;00m\u001b[43m \u001b[49m\u001b[43mi\u001b[49m\u001b[38;5;241;43m.\u001b[39;49m\u001b[43mis_Mul\u001b[49m\u001b[43m \u001b[49m\u001b[38;5;28;43;01melse\u001b[39;49;00m\u001b[43m \u001b[49m\u001b[43mi\u001b[49m\n\u001b[0;32m    925\u001b[0m \u001b[43m        \u001b[49m\u001b[38;5;28;43;01mfor\u001b[39;49;00m\u001b[43m \u001b[49m\u001b[43mi\u001b[49m\u001b[43m \u001b[49m\u001b[38;5;129;43;01min\u001b[39;49;00m\u001b[43m \u001b[49m\u001b[43m(\u001b[49m\u001b[43mn\u001b[49m\u001b[43m,\u001b[49m\u001b[43m \u001b[49m\u001b[43md\u001b[49m\u001b[43m)\u001b[49m\u001b[43m]\u001b[49m\n\u001b[0;32m    926\u001b[0m expr \u001b[38;5;241m=\u001b[39m n\u001b[38;5;241m/\u001b[39md\n\u001b[0;32m    927\u001b[0m \u001b[38;5;28;01mif\u001b[39;00m \u001b[38;5;129;01mnot\u001b[39;00m expr\u001b[38;5;241m.\u001b[39mis_Mul:\n",
      "File \u001b[1;32mc:\\Users\\kf5kf\\Python\\Senior Seminar\\.venv\\Lib\\site-packages\\sympy\\core\\mul.py:924\u001b[0m, in \u001b[0;36m<listcomp>\u001b[1;34m(.0)\u001b[0m\n\u001b[0;32m    922\u001b[0m n, d \u001b[38;5;241m=\u001b[39m fraction(expr)\n\u001b[0;32m    923\u001b[0m \u001b[38;5;28;01mif\u001b[39;00m d\u001b[38;5;241m.\u001b[39mis_Mul:\n\u001b[1;32m--> 924\u001b[0m     n, d \u001b[38;5;241m=\u001b[39m [\u001b[43mi\u001b[49m\u001b[38;5;241;43m.\u001b[39;49m\u001b[43m_eval_expand_mul\u001b[49m\u001b[43m(\u001b[49m\u001b[38;5;241;43m*\u001b[39;49m\u001b[38;5;241;43m*\u001b[39;49m\u001b[43mhints\u001b[49m\u001b[43m)\u001b[49m \u001b[38;5;28;01mif\u001b[39;00m i\u001b[38;5;241m.\u001b[39mis_Mul \u001b[38;5;28;01melse\u001b[39;00m i\n\u001b[0;32m    925\u001b[0m         \u001b[38;5;28;01mfor\u001b[39;00m i \u001b[38;5;129;01min\u001b[39;00m (n, d)]\n\u001b[0;32m    926\u001b[0m expr \u001b[38;5;241m=\u001b[39m n\u001b[38;5;241m/\u001b[39md\n\u001b[0;32m    927\u001b[0m \u001b[38;5;28;01mif\u001b[39;00m \u001b[38;5;129;01mnot\u001b[39;00m expr\u001b[38;5;241m.\u001b[39mis_Mul:\n",
      "File \u001b[1;32mc:\\Users\\kf5kf\\Python\\Senior Seminar\\.venv\\Lib\\site-packages\\sympy\\core\\mul.py:947\u001b[0m, in \u001b[0;36mMul._eval_expand_mul\u001b[1;34m(self, **hints)\u001b[0m\n\u001b[0;32m    945\u001b[0m \u001b[38;5;28;01mif\u001b[39;00m sums:\n\u001b[0;32m    946\u001b[0m     deep \u001b[38;5;241m=\u001b[39m hints\u001b[38;5;241m.\u001b[39mget(\u001b[38;5;124m\"\u001b[39m\u001b[38;5;124mdeep\u001b[39m\u001b[38;5;124m\"\u001b[39m, \u001b[38;5;28;01mFalse\u001b[39;00m)\n\u001b[1;32m--> 947\u001b[0m     terms \u001b[38;5;241m=\u001b[39m \u001b[38;5;28;43mself\u001b[39;49m\u001b[38;5;241;43m.\u001b[39;49m\u001b[43mfunc\u001b[49m\u001b[38;5;241;43m.\u001b[39;49m\u001b[43m_expandsums\u001b[49m\u001b[43m(\u001b[49m\u001b[43msums\u001b[49m\u001b[43m)\u001b[49m\n\u001b[0;32m    948\u001b[0m     args \u001b[38;5;241m=\u001b[39m []\n\u001b[0;32m    949\u001b[0m     \u001b[38;5;28;01mfor\u001b[39;00m term \u001b[38;5;129;01min\u001b[39;00m terms:\n",
      "File \u001b[1;32mc:\\Users\\kf5kf\\Python\\Senior Seminar\\.venv\\Lib\\site-packages\\sympy\\core\\mul.py:912\u001b[0m, in \u001b[0;36mMul._expandsums\u001b[1;34m(sums)\u001b[0m\n\u001b[0;32m    909\u001b[0m left \u001b[38;5;241m=\u001b[39m Mul\u001b[38;5;241m.\u001b[39m_expandsums(sums[:L\u001b[38;5;241m/\u001b[39m\u001b[38;5;241m/\u001b[39m\u001b[38;5;241m2\u001b[39m])\n\u001b[0;32m    910\u001b[0m right \u001b[38;5;241m=\u001b[39m Mul\u001b[38;5;241m.\u001b[39m_expandsums(sums[L\u001b[38;5;241m/\u001b[39m\u001b[38;5;241m/\u001b[39m\u001b[38;5;241m2\u001b[39m:])\n\u001b[1;32m--> 912\u001b[0m terms \u001b[38;5;241m=\u001b[39m \u001b[43m[\u001b[49m\u001b[43mMul\u001b[49m\u001b[43m(\u001b[49m\u001b[43ma\u001b[49m\u001b[43m,\u001b[49m\u001b[43m \u001b[49m\u001b[43mb\u001b[49m\u001b[43m)\u001b[49m\u001b[43m \u001b[49m\u001b[38;5;28;43;01mfor\u001b[39;49;00m\u001b[43m \u001b[49m\u001b[43ma\u001b[49m\u001b[43m \u001b[49m\u001b[38;5;129;43;01min\u001b[39;49;00m\u001b[43m \u001b[49m\u001b[43mleft\u001b[49m\u001b[43m \u001b[49m\u001b[38;5;28;43;01mfor\u001b[39;49;00m\u001b[43m \u001b[49m\u001b[43mb\u001b[49m\u001b[43m \u001b[49m\u001b[38;5;129;43;01min\u001b[39;49;00m\u001b[43m \u001b[49m\u001b[43mright\u001b[49m\u001b[43m]\u001b[49m\n\u001b[0;32m    913\u001b[0m added \u001b[38;5;241m=\u001b[39m Add(\u001b[38;5;241m*\u001b[39mterms)\n\u001b[0;32m    914\u001b[0m \u001b[38;5;28;01mreturn\u001b[39;00m Add\u001b[38;5;241m.\u001b[39mmake_args(added)\n",
      "File \u001b[1;32mc:\\Users\\kf5kf\\Python\\Senior Seminar\\.venv\\Lib\\site-packages\\sympy\\core\\mul.py:912\u001b[0m, in \u001b[0;36m<listcomp>\u001b[1;34m(.0)\u001b[0m\n\u001b[0;32m    909\u001b[0m left \u001b[38;5;241m=\u001b[39m Mul\u001b[38;5;241m.\u001b[39m_expandsums(sums[:L\u001b[38;5;241m/\u001b[39m\u001b[38;5;241m/\u001b[39m\u001b[38;5;241m2\u001b[39m])\n\u001b[0;32m    910\u001b[0m right \u001b[38;5;241m=\u001b[39m Mul\u001b[38;5;241m.\u001b[39m_expandsums(sums[L\u001b[38;5;241m/\u001b[39m\u001b[38;5;241m/\u001b[39m\u001b[38;5;241m2\u001b[39m:])\n\u001b[1;32m--> 912\u001b[0m terms \u001b[38;5;241m=\u001b[39m [\u001b[43mMul\u001b[49m\u001b[43m(\u001b[49m\u001b[43ma\u001b[49m\u001b[43m,\u001b[49m\u001b[43m \u001b[49m\u001b[43mb\u001b[49m\u001b[43m)\u001b[49m \u001b[38;5;28;01mfor\u001b[39;00m a \u001b[38;5;129;01min\u001b[39;00m left \u001b[38;5;28;01mfor\u001b[39;00m b \u001b[38;5;129;01min\u001b[39;00m right]\n\u001b[0;32m    913\u001b[0m added \u001b[38;5;241m=\u001b[39m Add(\u001b[38;5;241m*\u001b[39mterms)\n\u001b[0;32m    914\u001b[0m \u001b[38;5;28;01mreturn\u001b[39;00m Add\u001b[38;5;241m.\u001b[39mmake_args(added)\n",
      "File \u001b[1;32mc:\\Users\\kf5kf\\Python\\Senior Seminar\\.venv\\Lib\\site-packages\\sympy\\core\\cache.py:72\u001b[0m, in \u001b[0;36m__cacheit.<locals>.func_wrapper.<locals>.wrapper\u001b[1;34m(*args, **kwargs)\u001b[0m\n\u001b[0;32m     69\u001b[0m \u001b[38;5;129m@wraps\u001b[39m(func)\n\u001b[0;32m     70\u001b[0m \u001b[38;5;28;01mdef\u001b[39;00m \u001b[38;5;21mwrapper\u001b[39m(\u001b[38;5;241m*\u001b[39margs, \u001b[38;5;241m*\u001b[39m\u001b[38;5;241m*\u001b[39mkwargs):\n\u001b[0;32m     71\u001b[0m     \u001b[38;5;28;01mtry\u001b[39;00m:\n\u001b[1;32m---> 72\u001b[0m         retval \u001b[38;5;241m=\u001b[39m \u001b[43mcfunc\u001b[49m\u001b[43m(\u001b[49m\u001b[38;5;241;43m*\u001b[39;49m\u001b[43margs\u001b[49m\u001b[43m,\u001b[49m\u001b[43m \u001b[49m\u001b[38;5;241;43m*\u001b[39;49m\u001b[38;5;241;43m*\u001b[39;49m\u001b[43mkwargs\u001b[49m\u001b[43m)\u001b[49m\n\u001b[0;32m     73\u001b[0m     \u001b[38;5;28;01mexcept\u001b[39;00m \u001b[38;5;167;01mTypeError\u001b[39;00m \u001b[38;5;28;01mas\u001b[39;00m e:\n\u001b[0;32m     74\u001b[0m         \u001b[38;5;28;01mif\u001b[39;00m \u001b[38;5;129;01mnot\u001b[39;00m e\u001b[38;5;241m.\u001b[39margs \u001b[38;5;129;01mor\u001b[39;00m \u001b[38;5;129;01mnot\u001b[39;00m e\u001b[38;5;241m.\u001b[39margs[\u001b[38;5;241m0\u001b[39m]\u001b[38;5;241m.\u001b[39mstartswith(\u001b[38;5;124m'\u001b[39m\u001b[38;5;124munhashable type:\u001b[39m\u001b[38;5;124m'\u001b[39m):\n",
      "File \u001b[1;32mc:\\Users\\kf5kf\\Python\\Senior Seminar\\.venv\\Lib\\site-packages\\sympy\\core\\operations.py:98\u001b[0m, in \u001b[0;36mAssocOp.__new__\u001b[1;34m(cls, evaluate, _sympify, *args)\u001b[0m\n\u001b[0;32m     95\u001b[0m \u001b[38;5;28;01mif\u001b[39;00m \u001b[38;5;28mlen\u001b[39m(args) \u001b[38;5;241m==\u001b[39m \u001b[38;5;241m1\u001b[39m:\n\u001b[0;32m     96\u001b[0m     \u001b[38;5;28;01mreturn\u001b[39;00m args[\u001b[38;5;241m0\u001b[39m]\n\u001b[1;32m---> 98\u001b[0m c_part, nc_part, order_symbols \u001b[38;5;241m=\u001b[39m \u001b[38;5;28;43mcls\u001b[39;49m\u001b[38;5;241;43m.\u001b[39;49m\u001b[43mflatten\u001b[49m\u001b[43m(\u001b[49m\u001b[43margs\u001b[49m\u001b[43m)\u001b[49m\n\u001b[0;32m     99\u001b[0m is_commutative \u001b[38;5;241m=\u001b[39m \u001b[38;5;129;01mnot\u001b[39;00m nc_part\n\u001b[0;32m    100\u001b[0m obj \u001b[38;5;241m=\u001b[39m \u001b[38;5;28mcls\u001b[39m\u001b[38;5;241m.\u001b[39m_from_args(c_part \u001b[38;5;241m+\u001b[39m nc_part, is_commutative)\n",
      "File \u001b[1;32mc:\\Users\\kf5kf\\Python\\Senior Seminar\\.venv\\Lib\\site-packages\\sympy\\core\\mul.py:343\u001b[0m, in \u001b[0;36mMul.flatten\u001b[1;34m(cls, seq)\u001b[0m\n\u001b[0;32m    341\u001b[0m \u001b[38;5;28;01mif\u001b[39;00m o\u001b[38;5;241m.\u001b[39mis_Mul:\n\u001b[0;32m    342\u001b[0m     \u001b[38;5;28;01mif\u001b[39;00m o\u001b[38;5;241m.\u001b[39mis_commutative:\n\u001b[1;32m--> 343\u001b[0m         seq\u001b[38;5;241m.\u001b[39mextend(\u001b[43mo\u001b[49m\u001b[38;5;241;43m.\u001b[39;49m\u001b[43margs\u001b[49m)    \u001b[38;5;66;03m# XXX zerocopy?\u001b[39;00m\n\u001b[0;32m    345\u001b[0m     \u001b[38;5;28;01melse\u001b[39;00m:\n\u001b[0;32m    346\u001b[0m         \u001b[38;5;66;03m# NCMul can have commutative parts as well\u001b[39;00m\n\u001b[0;32m    347\u001b[0m         \u001b[38;5;28;01mfor\u001b[39;00m q \u001b[38;5;129;01min\u001b[39;00m o\u001b[38;5;241m.\u001b[39margs:\n",
      "File \u001b[1;32mc:\\Users\\kf5kf\\Python\\Senior Seminar\\.venv\\Lib\\site-packages\\sympy\\core\\basic.py:786\u001b[0m, in \u001b[0;36mBasic.args\u001b[1;34m(self)\u001b[0m\n\u001b[0;32m    762\u001b[0m \u001b[38;5;250m    \u001b[39m\u001b[38;5;124;03m\"\"\"\u001b[39;00m\n\u001b[0;32m    763\u001b[0m \u001b[38;5;124;03m    The top-level function in an expression.\u001b[39;00m\n\u001b[0;32m    764\u001b[0m \n\u001b[1;32m   (...)\u001b[0m\n\u001b[0;32m    782\u001b[0m \n\u001b[0;32m    783\u001b[0m \u001b[38;5;124;03m    \"\"\"\u001b[39;00m\n\u001b[0;32m    784\u001b[0m     \u001b[38;5;28;01mreturn\u001b[39;00m \u001b[38;5;28mself\u001b[39m\u001b[38;5;241m.\u001b[39m\u001b[38;5;18m__class__\u001b[39m\n\u001b[1;32m--> 786\u001b[0m \u001b[38;5;129m@property\u001b[39m\n\u001b[0;32m    787\u001b[0m \u001b[38;5;28;01mdef\u001b[39;00m \u001b[38;5;21margs\u001b[39m(\u001b[38;5;28mself\u001b[39m) \u001b[38;5;241m-\u001b[39m\u001b[38;5;241m>\u001b[39m \u001b[38;5;28mtuple\u001b[39m[Basic, \u001b[38;5;241m.\u001b[39m\u001b[38;5;241m.\u001b[39m\u001b[38;5;241m.\u001b[39m]:\n\u001b[0;32m    788\u001b[0m \u001b[38;5;250m    \u001b[39m\u001b[38;5;124;03m\"\"\"Returns a tuple of arguments of 'self'.\u001b[39;00m\n\u001b[0;32m    789\u001b[0m \n\u001b[0;32m    790\u001b[0m \u001b[38;5;124;03m    Examples\u001b[39;00m\n\u001b[1;32m   (...)\u001b[0m\n\u001b[0;32m    814\u001b[0m \u001b[38;5;124;03m    change the interface in the future if needed).\u001b[39;00m\n\u001b[0;32m    815\u001b[0m \u001b[38;5;124;03m    \"\"\"\u001b[39;00m\n\u001b[0;32m    816\u001b[0m     \u001b[38;5;28;01mreturn\u001b[39;00m \u001b[38;5;28mself\u001b[39m\u001b[38;5;241m.\u001b[39m_args\n",
      "\u001b[1;31mKeyboardInterrupt\u001b[0m: "
     ]
    }
   ],
   "source": [
    "sympy.solve(eq_phi_gamma,gamma)"
   ]
  },
  {
   "cell_type": "code",
   "execution_count": 20,
   "metadata": {},
   "outputs": [
    {
     "data": {
      "text/latex": [
       "$\\displaystyle \\frac{a^{2} \\left(1 - e^{2}\\right)^{2} \\sin^{2}{\\left(\\phi \\right)}}{c^{2} \\left(- e^{2} \\sin^{2}{\\left(\\phi \\right)} + 1\\right)} + \\frac{a^{2} \\sin^{2}{\\left(\\gamma \\right)} \\cos^{2}{\\left(\\phi \\right)}}{b^{2} \\left(- e^{2} \\sin^{2}{\\left(\\phi \\right)} + 1\\right)} + \\frac{\\cos^{2}{\\left(\\gamma \\right)} \\cos^{2}{\\left(\\phi \\right)}}{- e^{2} \\sin^{2}{\\left(\\phi \\right)} + 1} = \\frac{a w \\left(1 - e^{2}\\right) \\sin{\\left(\\phi \\right)}}{c^{2} \\sqrt{- e^{2} \\sin^{2}{\\left(\\phi \\right)} + 1}} + \\frac{a v \\sin{\\left(\\gamma \\right)} \\cos{\\left(\\phi \\right)}}{b^{2} \\sqrt{- e^{2} \\sin^{2}{\\left(\\phi \\right)} + 1}} + \\frac{u \\cos{\\left(\\gamma \\right)} \\cos{\\left(\\phi \\right)}}{a \\sqrt{- e^{2} \\sin^{2}{\\left(\\phi \\right)} + 1}}$"
      ],
      "text/plain": [
       "Eq(a**2*(1 - e^2)**2*sin(phi)**2/(c**2*(-e^2*sin(phi)**2 + 1)) + a**2*sin(gamma)**2*cos(phi)**2/(b**2*(-e^2*sin(phi)**2 + 1)) + cos(gamma)**2*cos(phi)**2/(-e^2*sin(phi)**2 + 1), a*w*(1 - e^2)*sin(phi)/(c**2*sqrt(-e^2*sin(phi)**2 + 1)) + a*v*sin(gamma)*cos(phi)/(b**2*sqrt(-e^2*sin(phi)**2 + 1)) + u*cos(gamma)*cos(phi)/(a*sqrt(-e^2*sin(phi)**2 + 1)))"
      ]
     },
     "execution_count": 20,
     "metadata": {},
     "output_type": "execute_result"
    }
   ],
   "source": [
    "eq_phi_lon"
   ]
  },
  {
   "cell_type": "code",
   "execution_count": 22,
   "metadata": {},
   "outputs": [],
   "source": [
    "eq0 = (x**2 /a**2)+(y**2 /b**2)+(z**2 /c**2)-((x*u /a**2)+(y*v /b**2)+(z*w /c**2))"
   ]
  },
  {
   "cell_type": "code",
   "execution_count": 28,
   "metadata": {},
   "outputs": [
    {
     "data": {
      "text/plain": [
       "'(a**3*b**2*(e^2 - 1)**2*(-e^2*math.sin(phi)**2 + 1)**(7/2)*math.sin(phi)**2 + a**3*c**2*(-e^2*math.sin(phi)**2 + 1)**(7/2)*math.sin(gamma)**2*math.cos(phi)**2 + a**2*b**2*w*(e^2 - 1)*(e^2*math.sin(phi)**2 - 1)**4*math.sin(phi) - a**2*c**2*v*(e^2*math.sin(phi)**2 - 1)**4*math.sin(gamma)*math.cos(phi) + a*b**2*c**2*(-e^2*math.sin(phi)**2 + 1)**(7/2)*math.cos(gamma)**2*math.cos(phi)**2 - b**2*c**2*u*(e^2*math.sin(phi)**2 - 1)**4*math.cos(gamma)*math.cos(phi))/(a*b**2*c**2*(-e^2*math.sin(phi)**2 + 1)**(9/2))'"
      ]
     },
     "execution_count": 28,
     "metadata": {},
     "output_type": "execute_result"
    }
   ],
   "source": [
    "sympy.pycode(eq0.subs(d).simplify())"
   ]
  },
  {
   "cell_type": "code",
   "execution_count": 33,
   "metadata": {},
   "outputs": [
    {
     "data": {
      "text/plain": [
       "'(-1/2*a**3*(math.sin(2*gamma - phi) + math.sin(2*gamma + phi)) + a**2*v*math.sqrt(-e^2*math.sin(phi)**2 + 1)*math.cos(gamma) + (1/2)*a*b**2*(math.sin(2*gamma - phi) + math.sin(2*gamma + phi)) - b**2*u*math.sqrt(-e^2*math.sin(phi)**2 + 1)*math.sin(gamma))*math.cos(phi)/(a*b**2*(e^2*math.sin(phi)**2 - 1))'"
      ]
     },
     "execution_count": 33,
     "metadata": {},
     "output_type": "execute_result"
    }
   ],
   "source": [
    "sympy.pycode(sympy.diff(eq0.subs(d),gamma).simplify())"
   ]
  },
  {
   "cell_type": "code",
   "execution_count": 38,
   "metadata": {},
   "outputs": [
    {
     "data": {
      "text/plain": [
       "[]"
      ]
     },
     "execution_count": 38,
     "metadata": {},
     "output_type": "execute_result"
    }
   ],
   "source": [
    "sympy.solve(sympy.Eq(x,(veq(phi)+h)*sympy.cos(phi)*sympy.cos(gamma)),\n",
    "sympy.Eq(y,(veq(phi)+h)*sympy.cos(phi)*sympy.sin(gamma)),\n",
    "sympy.Eq(z,(veq(phi)*(1-esq)+h)*sympy.sin(phi)),(phi,gamma,h))"
   ]
  },
  {
   "cell_type": "code",
   "execution_count": null,
   "metadata": {},
   "outputs": [],
   "source": []
  }
 ],
 "metadata": {
  "kernelspec": {
   "display_name": ".venv",
   "language": "python",
   "name": "python3"
  },
  "language_info": {
   "codemirror_mode": {
    "name": "ipython",
    "version": 3
   },
   "file_extension": ".py",
   "mimetype": "text/x-python",
   "name": "python",
   "nbconvert_exporter": "python",
   "pygments_lexer": "ipython3",
   "version": "3.11.5"
  }
 },
 "nbformat": 4,
 "nbformat_minor": 2
}
